{
  "nbformat": 4,
  "nbformat_minor": 0,
  "metadata": {
    "colab": {
      "name": "Kaggle_Advance_Houseprice_prediction_using_pytorch.ipynb",
      "provenance": [],
      "authorship_tag": "ABX9TyPkSXAXzqzIRh2dfxHwSUwO",
      "include_colab_link": true
    },
    "kernelspec": {
      "name": "python3",
      "display_name": "Python 3"
    },
    "language_info": {
      "name": "python"
    }
  },
  "cells": [
    {
      "cell_type": "markdown",
      "metadata": {
        "id": "view-in-github",
        "colab_type": "text"
      },
      "source": [
        "<a href=\"https://colab.research.google.com/github/AAKANKSHA123-123/MY_PROJECTS_PRAC/blob/main/Kaggle_Advance_Houseprice_prediction_using_pytorch.ipynb\" target=\"_parent\"><img src=\"https://colab.research.google.com/assets/colab-badge.svg\" alt=\"Open In Colab\"/></a>"
      ]
    },
    {
      "cell_type": "code",
      "metadata": {
        "id": "7a-SmyAeNEwl"
      },
      "source": [
        "import pandas as pd"
      ],
      "execution_count": 1,
      "outputs": []
    },
    {
      "cell_type": "code",
      "metadata": {
        "id": "7_xU5NO8PXAK"
      },
      "source": [
        "filename = 'https://raw.githubusercontent.com/krishnaik06/Pytorch-Tutorial/master/houseprice.csv'\n",
        "df = pd.read_csv(filename)"
      ],
      "execution_count": 2,
      "outputs": []
    },
    {
      "cell_type": "code",
      "metadata": {
        "colab": {
          "base_uri": "https://localhost:8080/",
          "height": 253
        },
        "id": "qBQnJxiVPffp",
        "outputId": "06d8f42d-5779-4933-9a16-f226ae357a67"
      },
      "source": [
        "df.head()"
      ],
      "execution_count": 3,
      "outputs": [
        {
          "output_type": "execute_result",
          "data": {
            "text/html": [
              "<div>\n",
              "<style scoped>\n",
              "    .dataframe tbody tr th:only-of-type {\n",
              "        vertical-align: middle;\n",
              "    }\n",
              "\n",
              "    .dataframe tbody tr th {\n",
              "        vertical-align: top;\n",
              "    }\n",
              "\n",
              "    .dataframe thead th {\n",
              "        text-align: right;\n",
              "    }\n",
              "</style>\n",
              "<table border=\"1\" class=\"dataframe\">\n",
              "  <thead>\n",
              "    <tr style=\"text-align: right;\">\n",
              "      <th></th>\n",
              "      <th>Id</th>\n",
              "      <th>MSSubClass</th>\n",
              "      <th>MSZoning</th>\n",
              "      <th>LotFrontage</th>\n",
              "      <th>LotArea</th>\n",
              "      <th>Street</th>\n",
              "      <th>Alley</th>\n",
              "      <th>LotShape</th>\n",
              "      <th>LandContour</th>\n",
              "      <th>Utilities</th>\n",
              "      <th>LotConfig</th>\n",
              "      <th>LandSlope</th>\n",
              "      <th>Neighborhood</th>\n",
              "      <th>Condition1</th>\n",
              "      <th>Condition2</th>\n",
              "      <th>BldgType</th>\n",
              "      <th>HouseStyle</th>\n",
              "      <th>OverallQual</th>\n",
              "      <th>OverallCond</th>\n",
              "      <th>YearBuilt</th>\n",
              "      <th>YearRemodAdd</th>\n",
              "      <th>RoofStyle</th>\n",
              "      <th>RoofMatl</th>\n",
              "      <th>Exterior1st</th>\n",
              "      <th>Exterior2nd</th>\n",
              "      <th>MasVnrType</th>\n",
              "      <th>MasVnrArea</th>\n",
              "      <th>ExterQual</th>\n",
              "      <th>ExterCond</th>\n",
              "      <th>Foundation</th>\n",
              "      <th>BsmtQual</th>\n",
              "      <th>BsmtCond</th>\n",
              "      <th>BsmtExposure</th>\n",
              "      <th>BsmtFinType1</th>\n",
              "      <th>BsmtFinSF1</th>\n",
              "      <th>BsmtFinType2</th>\n",
              "      <th>BsmtFinSF2</th>\n",
              "      <th>BsmtUnfSF</th>\n",
              "      <th>TotalBsmtSF</th>\n",
              "      <th>Heating</th>\n",
              "      <th>...</th>\n",
              "      <th>CentralAir</th>\n",
              "      <th>Electrical</th>\n",
              "      <th>1stFlrSF</th>\n",
              "      <th>2ndFlrSF</th>\n",
              "      <th>LowQualFinSF</th>\n",
              "      <th>GrLivArea</th>\n",
              "      <th>BsmtFullBath</th>\n",
              "      <th>BsmtHalfBath</th>\n",
              "      <th>FullBath</th>\n",
              "      <th>HalfBath</th>\n",
              "      <th>BedroomAbvGr</th>\n",
              "      <th>KitchenAbvGr</th>\n",
              "      <th>KitchenQual</th>\n",
              "      <th>TotRmsAbvGrd</th>\n",
              "      <th>Functional</th>\n",
              "      <th>Fireplaces</th>\n",
              "      <th>FireplaceQu</th>\n",
              "      <th>GarageType</th>\n",
              "      <th>GarageYrBlt</th>\n",
              "      <th>GarageFinish</th>\n",
              "      <th>GarageCars</th>\n",
              "      <th>GarageArea</th>\n",
              "      <th>GarageQual</th>\n",
              "      <th>GarageCond</th>\n",
              "      <th>PavedDrive</th>\n",
              "      <th>WoodDeckSF</th>\n",
              "      <th>OpenPorchSF</th>\n",
              "      <th>EnclosedPorch</th>\n",
              "      <th>3SsnPorch</th>\n",
              "      <th>ScreenPorch</th>\n",
              "      <th>PoolArea</th>\n",
              "      <th>PoolQC</th>\n",
              "      <th>Fence</th>\n",
              "      <th>MiscFeature</th>\n",
              "      <th>MiscVal</th>\n",
              "      <th>MoSold</th>\n",
              "      <th>YrSold</th>\n",
              "      <th>SaleType</th>\n",
              "      <th>SaleCondition</th>\n",
              "      <th>SalePrice</th>\n",
              "    </tr>\n",
              "  </thead>\n",
              "  <tbody>\n",
              "    <tr>\n",
              "      <th>0</th>\n",
              "      <td>1</td>\n",
              "      <td>60</td>\n",
              "      <td>RL</td>\n",
              "      <td>65.0</td>\n",
              "      <td>8450</td>\n",
              "      <td>Pave</td>\n",
              "      <td>NaN</td>\n",
              "      <td>Reg</td>\n",
              "      <td>Lvl</td>\n",
              "      <td>AllPub</td>\n",
              "      <td>Inside</td>\n",
              "      <td>Gtl</td>\n",
              "      <td>CollgCr</td>\n",
              "      <td>Norm</td>\n",
              "      <td>Norm</td>\n",
              "      <td>1Fam</td>\n",
              "      <td>2Story</td>\n",
              "      <td>7</td>\n",
              "      <td>5</td>\n",
              "      <td>2003</td>\n",
              "      <td>2003</td>\n",
              "      <td>Gable</td>\n",
              "      <td>CompShg</td>\n",
              "      <td>VinylSd</td>\n",
              "      <td>VinylSd</td>\n",
              "      <td>BrkFace</td>\n",
              "      <td>196.0</td>\n",
              "      <td>Gd</td>\n",
              "      <td>TA</td>\n",
              "      <td>PConc</td>\n",
              "      <td>Gd</td>\n",
              "      <td>TA</td>\n",
              "      <td>No</td>\n",
              "      <td>GLQ</td>\n",
              "      <td>706</td>\n",
              "      <td>Unf</td>\n",
              "      <td>0</td>\n",
              "      <td>150</td>\n",
              "      <td>856</td>\n",
              "      <td>GasA</td>\n",
              "      <td>...</td>\n",
              "      <td>Y</td>\n",
              "      <td>SBrkr</td>\n",
              "      <td>856</td>\n",
              "      <td>854</td>\n",
              "      <td>0</td>\n",
              "      <td>1710</td>\n",
              "      <td>1</td>\n",
              "      <td>0</td>\n",
              "      <td>2</td>\n",
              "      <td>1</td>\n",
              "      <td>3</td>\n",
              "      <td>1</td>\n",
              "      <td>Gd</td>\n",
              "      <td>8</td>\n",
              "      <td>Typ</td>\n",
              "      <td>0</td>\n",
              "      <td>NaN</td>\n",
              "      <td>Attchd</td>\n",
              "      <td>2003.0</td>\n",
              "      <td>RFn</td>\n",
              "      <td>2</td>\n",
              "      <td>548</td>\n",
              "      <td>TA</td>\n",
              "      <td>TA</td>\n",
              "      <td>Y</td>\n",
              "      <td>0</td>\n",
              "      <td>61</td>\n",
              "      <td>0</td>\n",
              "      <td>0</td>\n",
              "      <td>0</td>\n",
              "      <td>0</td>\n",
              "      <td>NaN</td>\n",
              "      <td>NaN</td>\n",
              "      <td>NaN</td>\n",
              "      <td>0</td>\n",
              "      <td>2</td>\n",
              "      <td>2008</td>\n",
              "      <td>WD</td>\n",
              "      <td>Normal</td>\n",
              "      <td>208500</td>\n",
              "    </tr>\n",
              "    <tr>\n",
              "      <th>1</th>\n",
              "      <td>2</td>\n",
              "      <td>20</td>\n",
              "      <td>RL</td>\n",
              "      <td>80.0</td>\n",
              "      <td>9600</td>\n",
              "      <td>Pave</td>\n",
              "      <td>NaN</td>\n",
              "      <td>Reg</td>\n",
              "      <td>Lvl</td>\n",
              "      <td>AllPub</td>\n",
              "      <td>FR2</td>\n",
              "      <td>Gtl</td>\n",
              "      <td>Veenker</td>\n",
              "      <td>Feedr</td>\n",
              "      <td>Norm</td>\n",
              "      <td>1Fam</td>\n",
              "      <td>1Story</td>\n",
              "      <td>6</td>\n",
              "      <td>8</td>\n",
              "      <td>1976</td>\n",
              "      <td>1976</td>\n",
              "      <td>Gable</td>\n",
              "      <td>CompShg</td>\n",
              "      <td>MetalSd</td>\n",
              "      <td>MetalSd</td>\n",
              "      <td>None</td>\n",
              "      <td>0.0</td>\n",
              "      <td>TA</td>\n",
              "      <td>TA</td>\n",
              "      <td>CBlock</td>\n",
              "      <td>Gd</td>\n",
              "      <td>TA</td>\n",
              "      <td>Gd</td>\n",
              "      <td>ALQ</td>\n",
              "      <td>978</td>\n",
              "      <td>Unf</td>\n",
              "      <td>0</td>\n",
              "      <td>284</td>\n",
              "      <td>1262</td>\n",
              "      <td>GasA</td>\n",
              "      <td>...</td>\n",
              "      <td>Y</td>\n",
              "      <td>SBrkr</td>\n",
              "      <td>1262</td>\n",
              "      <td>0</td>\n",
              "      <td>0</td>\n",
              "      <td>1262</td>\n",
              "      <td>0</td>\n",
              "      <td>1</td>\n",
              "      <td>2</td>\n",
              "      <td>0</td>\n",
              "      <td>3</td>\n",
              "      <td>1</td>\n",
              "      <td>TA</td>\n",
              "      <td>6</td>\n",
              "      <td>Typ</td>\n",
              "      <td>1</td>\n",
              "      <td>TA</td>\n",
              "      <td>Attchd</td>\n",
              "      <td>1976.0</td>\n",
              "      <td>RFn</td>\n",
              "      <td>2</td>\n",
              "      <td>460</td>\n",
              "      <td>TA</td>\n",
              "      <td>TA</td>\n",
              "      <td>Y</td>\n",
              "      <td>298</td>\n",
              "      <td>0</td>\n",
              "      <td>0</td>\n",
              "      <td>0</td>\n",
              "      <td>0</td>\n",
              "      <td>0</td>\n",
              "      <td>NaN</td>\n",
              "      <td>NaN</td>\n",
              "      <td>NaN</td>\n",
              "      <td>0</td>\n",
              "      <td>5</td>\n",
              "      <td>2007</td>\n",
              "      <td>WD</td>\n",
              "      <td>Normal</td>\n",
              "      <td>181500</td>\n",
              "    </tr>\n",
              "    <tr>\n",
              "      <th>2</th>\n",
              "      <td>3</td>\n",
              "      <td>60</td>\n",
              "      <td>RL</td>\n",
              "      <td>68.0</td>\n",
              "      <td>11250</td>\n",
              "      <td>Pave</td>\n",
              "      <td>NaN</td>\n",
              "      <td>IR1</td>\n",
              "      <td>Lvl</td>\n",
              "      <td>AllPub</td>\n",
              "      <td>Inside</td>\n",
              "      <td>Gtl</td>\n",
              "      <td>CollgCr</td>\n",
              "      <td>Norm</td>\n",
              "      <td>Norm</td>\n",
              "      <td>1Fam</td>\n",
              "      <td>2Story</td>\n",
              "      <td>7</td>\n",
              "      <td>5</td>\n",
              "      <td>2001</td>\n",
              "      <td>2002</td>\n",
              "      <td>Gable</td>\n",
              "      <td>CompShg</td>\n",
              "      <td>VinylSd</td>\n",
              "      <td>VinylSd</td>\n",
              "      <td>BrkFace</td>\n",
              "      <td>162.0</td>\n",
              "      <td>Gd</td>\n",
              "      <td>TA</td>\n",
              "      <td>PConc</td>\n",
              "      <td>Gd</td>\n",
              "      <td>TA</td>\n",
              "      <td>Mn</td>\n",
              "      <td>GLQ</td>\n",
              "      <td>486</td>\n",
              "      <td>Unf</td>\n",
              "      <td>0</td>\n",
              "      <td>434</td>\n",
              "      <td>920</td>\n",
              "      <td>GasA</td>\n",
              "      <td>...</td>\n",
              "      <td>Y</td>\n",
              "      <td>SBrkr</td>\n",
              "      <td>920</td>\n",
              "      <td>866</td>\n",
              "      <td>0</td>\n",
              "      <td>1786</td>\n",
              "      <td>1</td>\n",
              "      <td>0</td>\n",
              "      <td>2</td>\n",
              "      <td>1</td>\n",
              "      <td>3</td>\n",
              "      <td>1</td>\n",
              "      <td>Gd</td>\n",
              "      <td>6</td>\n",
              "      <td>Typ</td>\n",
              "      <td>1</td>\n",
              "      <td>TA</td>\n",
              "      <td>Attchd</td>\n",
              "      <td>2001.0</td>\n",
              "      <td>RFn</td>\n",
              "      <td>2</td>\n",
              "      <td>608</td>\n",
              "      <td>TA</td>\n",
              "      <td>TA</td>\n",
              "      <td>Y</td>\n",
              "      <td>0</td>\n",
              "      <td>42</td>\n",
              "      <td>0</td>\n",
              "      <td>0</td>\n",
              "      <td>0</td>\n",
              "      <td>0</td>\n",
              "      <td>NaN</td>\n",
              "      <td>NaN</td>\n",
              "      <td>NaN</td>\n",
              "      <td>0</td>\n",
              "      <td>9</td>\n",
              "      <td>2008</td>\n",
              "      <td>WD</td>\n",
              "      <td>Normal</td>\n",
              "      <td>223500</td>\n",
              "    </tr>\n",
              "    <tr>\n",
              "      <th>3</th>\n",
              "      <td>4</td>\n",
              "      <td>70</td>\n",
              "      <td>RL</td>\n",
              "      <td>60.0</td>\n",
              "      <td>9550</td>\n",
              "      <td>Pave</td>\n",
              "      <td>NaN</td>\n",
              "      <td>IR1</td>\n",
              "      <td>Lvl</td>\n",
              "      <td>AllPub</td>\n",
              "      <td>Corner</td>\n",
              "      <td>Gtl</td>\n",
              "      <td>Crawfor</td>\n",
              "      <td>Norm</td>\n",
              "      <td>Norm</td>\n",
              "      <td>1Fam</td>\n",
              "      <td>2Story</td>\n",
              "      <td>7</td>\n",
              "      <td>5</td>\n",
              "      <td>1915</td>\n",
              "      <td>1970</td>\n",
              "      <td>Gable</td>\n",
              "      <td>CompShg</td>\n",
              "      <td>Wd Sdng</td>\n",
              "      <td>Wd Shng</td>\n",
              "      <td>None</td>\n",
              "      <td>0.0</td>\n",
              "      <td>TA</td>\n",
              "      <td>TA</td>\n",
              "      <td>BrkTil</td>\n",
              "      <td>TA</td>\n",
              "      <td>Gd</td>\n",
              "      <td>No</td>\n",
              "      <td>ALQ</td>\n",
              "      <td>216</td>\n",
              "      <td>Unf</td>\n",
              "      <td>0</td>\n",
              "      <td>540</td>\n",
              "      <td>756</td>\n",
              "      <td>GasA</td>\n",
              "      <td>...</td>\n",
              "      <td>Y</td>\n",
              "      <td>SBrkr</td>\n",
              "      <td>961</td>\n",
              "      <td>756</td>\n",
              "      <td>0</td>\n",
              "      <td>1717</td>\n",
              "      <td>1</td>\n",
              "      <td>0</td>\n",
              "      <td>1</td>\n",
              "      <td>0</td>\n",
              "      <td>3</td>\n",
              "      <td>1</td>\n",
              "      <td>Gd</td>\n",
              "      <td>7</td>\n",
              "      <td>Typ</td>\n",
              "      <td>1</td>\n",
              "      <td>Gd</td>\n",
              "      <td>Detchd</td>\n",
              "      <td>1998.0</td>\n",
              "      <td>Unf</td>\n",
              "      <td>3</td>\n",
              "      <td>642</td>\n",
              "      <td>TA</td>\n",
              "      <td>TA</td>\n",
              "      <td>Y</td>\n",
              "      <td>0</td>\n",
              "      <td>35</td>\n",
              "      <td>272</td>\n",
              "      <td>0</td>\n",
              "      <td>0</td>\n",
              "      <td>0</td>\n",
              "      <td>NaN</td>\n",
              "      <td>NaN</td>\n",
              "      <td>NaN</td>\n",
              "      <td>0</td>\n",
              "      <td>2</td>\n",
              "      <td>2006</td>\n",
              "      <td>WD</td>\n",
              "      <td>Abnorml</td>\n",
              "      <td>140000</td>\n",
              "    </tr>\n",
              "    <tr>\n",
              "      <th>4</th>\n",
              "      <td>5</td>\n",
              "      <td>60</td>\n",
              "      <td>RL</td>\n",
              "      <td>84.0</td>\n",
              "      <td>14260</td>\n",
              "      <td>Pave</td>\n",
              "      <td>NaN</td>\n",
              "      <td>IR1</td>\n",
              "      <td>Lvl</td>\n",
              "      <td>AllPub</td>\n",
              "      <td>FR2</td>\n",
              "      <td>Gtl</td>\n",
              "      <td>NoRidge</td>\n",
              "      <td>Norm</td>\n",
              "      <td>Norm</td>\n",
              "      <td>1Fam</td>\n",
              "      <td>2Story</td>\n",
              "      <td>8</td>\n",
              "      <td>5</td>\n",
              "      <td>2000</td>\n",
              "      <td>2000</td>\n",
              "      <td>Gable</td>\n",
              "      <td>CompShg</td>\n",
              "      <td>VinylSd</td>\n",
              "      <td>VinylSd</td>\n",
              "      <td>BrkFace</td>\n",
              "      <td>350.0</td>\n",
              "      <td>Gd</td>\n",
              "      <td>TA</td>\n",
              "      <td>PConc</td>\n",
              "      <td>Gd</td>\n",
              "      <td>TA</td>\n",
              "      <td>Av</td>\n",
              "      <td>GLQ</td>\n",
              "      <td>655</td>\n",
              "      <td>Unf</td>\n",
              "      <td>0</td>\n",
              "      <td>490</td>\n",
              "      <td>1145</td>\n",
              "      <td>GasA</td>\n",
              "      <td>...</td>\n",
              "      <td>Y</td>\n",
              "      <td>SBrkr</td>\n",
              "      <td>1145</td>\n",
              "      <td>1053</td>\n",
              "      <td>0</td>\n",
              "      <td>2198</td>\n",
              "      <td>1</td>\n",
              "      <td>0</td>\n",
              "      <td>2</td>\n",
              "      <td>1</td>\n",
              "      <td>4</td>\n",
              "      <td>1</td>\n",
              "      <td>Gd</td>\n",
              "      <td>9</td>\n",
              "      <td>Typ</td>\n",
              "      <td>1</td>\n",
              "      <td>TA</td>\n",
              "      <td>Attchd</td>\n",
              "      <td>2000.0</td>\n",
              "      <td>RFn</td>\n",
              "      <td>3</td>\n",
              "      <td>836</td>\n",
              "      <td>TA</td>\n",
              "      <td>TA</td>\n",
              "      <td>Y</td>\n",
              "      <td>192</td>\n",
              "      <td>84</td>\n",
              "      <td>0</td>\n",
              "      <td>0</td>\n",
              "      <td>0</td>\n",
              "      <td>0</td>\n",
              "      <td>NaN</td>\n",
              "      <td>NaN</td>\n",
              "      <td>NaN</td>\n",
              "      <td>0</td>\n",
              "      <td>12</td>\n",
              "      <td>2008</td>\n",
              "      <td>WD</td>\n",
              "      <td>Normal</td>\n",
              "      <td>250000</td>\n",
              "    </tr>\n",
              "  </tbody>\n",
              "</table>\n",
              "<p>5 rows × 81 columns</p>\n",
              "</div>"
            ],
            "text/plain": [
              "   Id  MSSubClass MSZoning  ...  SaleType  SaleCondition SalePrice\n",
              "0   1          60       RL  ...        WD         Normal    208500\n",
              "1   2          20       RL  ...        WD         Normal    181500\n",
              "2   3          60       RL  ...        WD         Normal    223500\n",
              "3   4          70       RL  ...        WD        Abnorml    140000\n",
              "4   5          60       RL  ...        WD         Normal    250000\n",
              "\n",
              "[5 rows x 81 columns]"
            ]
          },
          "metadata": {},
          "execution_count": 3
        }
      ]
    },
    {
      "cell_type": "code",
      "metadata": {
        "id": "HOxMORCeQJ4n"
      },
      "source": [
        "df=pd.read_csv(filename,usecols=[\"SalePrice\", \"MSSubClass\", \"MSZoning\", \"LotFrontage\", \"LotArea\",\n",
        "                                         \"Street\", \"YearBuilt\", \"LotShape\", \"1stFlrSF\", \"2ndFlrSF\"]).dropna()"
      ],
      "execution_count": 4,
      "outputs": []
    },
    {
      "cell_type": "code",
      "metadata": {
        "colab": {
          "base_uri": "https://localhost:8080/",
          "height": 204
        },
        "id": "3FwUA-lAQ_y3",
        "outputId": "b919eb19-4d84-47ce-9d65-9e192ffe95bf"
      },
      "source": [
        "df.head()"
      ],
      "execution_count": 5,
      "outputs": [
        {
          "output_type": "execute_result",
          "data": {
            "text/html": [
              "<div>\n",
              "<style scoped>\n",
              "    .dataframe tbody tr th:only-of-type {\n",
              "        vertical-align: middle;\n",
              "    }\n",
              "\n",
              "    .dataframe tbody tr th {\n",
              "        vertical-align: top;\n",
              "    }\n",
              "\n",
              "    .dataframe thead th {\n",
              "        text-align: right;\n",
              "    }\n",
              "</style>\n",
              "<table border=\"1\" class=\"dataframe\">\n",
              "  <thead>\n",
              "    <tr style=\"text-align: right;\">\n",
              "      <th></th>\n",
              "      <th>MSSubClass</th>\n",
              "      <th>MSZoning</th>\n",
              "      <th>LotFrontage</th>\n",
              "      <th>LotArea</th>\n",
              "      <th>Street</th>\n",
              "      <th>LotShape</th>\n",
              "      <th>YearBuilt</th>\n",
              "      <th>1stFlrSF</th>\n",
              "      <th>2ndFlrSF</th>\n",
              "      <th>SalePrice</th>\n",
              "    </tr>\n",
              "  </thead>\n",
              "  <tbody>\n",
              "    <tr>\n",
              "      <th>0</th>\n",
              "      <td>60</td>\n",
              "      <td>RL</td>\n",
              "      <td>65.0</td>\n",
              "      <td>8450</td>\n",
              "      <td>Pave</td>\n",
              "      <td>Reg</td>\n",
              "      <td>2003</td>\n",
              "      <td>856</td>\n",
              "      <td>854</td>\n",
              "      <td>208500</td>\n",
              "    </tr>\n",
              "    <tr>\n",
              "      <th>1</th>\n",
              "      <td>20</td>\n",
              "      <td>RL</td>\n",
              "      <td>80.0</td>\n",
              "      <td>9600</td>\n",
              "      <td>Pave</td>\n",
              "      <td>Reg</td>\n",
              "      <td>1976</td>\n",
              "      <td>1262</td>\n",
              "      <td>0</td>\n",
              "      <td>181500</td>\n",
              "    </tr>\n",
              "    <tr>\n",
              "      <th>2</th>\n",
              "      <td>60</td>\n",
              "      <td>RL</td>\n",
              "      <td>68.0</td>\n",
              "      <td>11250</td>\n",
              "      <td>Pave</td>\n",
              "      <td>IR1</td>\n",
              "      <td>2001</td>\n",
              "      <td>920</td>\n",
              "      <td>866</td>\n",
              "      <td>223500</td>\n",
              "    </tr>\n",
              "    <tr>\n",
              "      <th>3</th>\n",
              "      <td>70</td>\n",
              "      <td>RL</td>\n",
              "      <td>60.0</td>\n",
              "      <td>9550</td>\n",
              "      <td>Pave</td>\n",
              "      <td>IR1</td>\n",
              "      <td>1915</td>\n",
              "      <td>961</td>\n",
              "      <td>756</td>\n",
              "      <td>140000</td>\n",
              "    </tr>\n",
              "    <tr>\n",
              "      <th>4</th>\n",
              "      <td>60</td>\n",
              "      <td>RL</td>\n",
              "      <td>84.0</td>\n",
              "      <td>14260</td>\n",
              "      <td>Pave</td>\n",
              "      <td>IR1</td>\n",
              "      <td>2000</td>\n",
              "      <td>1145</td>\n",
              "      <td>1053</td>\n",
              "      <td>250000</td>\n",
              "    </tr>\n",
              "  </tbody>\n",
              "</table>\n",
              "</div>"
            ],
            "text/plain": [
              "   MSSubClass MSZoning  LotFrontage  ...  1stFlrSF 2ndFlrSF SalePrice\n",
              "0          60       RL         65.0  ...       856      854    208500\n",
              "1          20       RL         80.0  ...      1262        0    181500\n",
              "2          60       RL         68.0  ...       920      866    223500\n",
              "3          70       RL         60.0  ...       961      756    140000\n",
              "4          60       RL         84.0  ...      1145     1053    250000\n",
              "\n",
              "[5 rows x 10 columns]"
            ]
          },
          "metadata": {},
          "execution_count": 5
        }
      ]
    },
    {
      "cell_type": "code",
      "metadata": {
        "colab": {
          "base_uri": "https://localhost:8080/"
        },
        "id": "ZhV8HkmnTreB",
        "outputId": "baebfe0f-24dd-423c-8024-ad31e7fdbf52"
      },
      "source": [
        "df.shape"
      ],
      "execution_count": 6,
      "outputs": [
        {
          "output_type": "execute_result",
          "data": {
            "text/plain": [
              "(1201, 10)"
            ]
          },
          "metadata": {},
          "execution_count": 6
        }
      ]
    },
    {
      "cell_type": "code",
      "metadata": {
        "colab": {
          "base_uri": "https://localhost:8080/"
        },
        "id": "8mVc8fCVT6wk",
        "outputId": "e96ab8f2-ad74-42a5-9109-0b5b4f967233"
      },
      "source": [
        "df.info()"
      ],
      "execution_count": 7,
      "outputs": [
        {
          "output_type": "stream",
          "name": "stdout",
          "text": [
            "<class 'pandas.core.frame.DataFrame'>\n",
            "Int64Index: 1201 entries, 0 to 1459\n",
            "Data columns (total 10 columns):\n",
            " #   Column       Non-Null Count  Dtype  \n",
            "---  ------       --------------  -----  \n",
            " 0   MSSubClass   1201 non-null   int64  \n",
            " 1   MSZoning     1201 non-null   object \n",
            " 2   LotFrontage  1201 non-null   float64\n",
            " 3   LotArea      1201 non-null   int64  \n",
            " 4   Street       1201 non-null   object \n",
            " 5   LotShape     1201 non-null   object \n",
            " 6   YearBuilt    1201 non-null   int64  \n",
            " 7   1stFlrSF     1201 non-null   int64  \n",
            " 8   2ndFlrSF     1201 non-null   int64  \n",
            " 9   SalePrice    1201 non-null   int64  \n",
            "dtypes: float64(1), int64(6), object(3)\n",
            "memory usage: 103.2+ KB\n"
          ]
        }
      ]
    },
    {
      "cell_type": "code",
      "metadata": {
        "colab": {
          "base_uri": "https://localhost:8080/"
        },
        "id": "hFLx7p_TT_ra",
        "outputId": "f8c4f1ed-5df8-475f-e233-172d45f560dc"
      },
      "source": [
        "for i in df.columns:\n",
        "  print(\"Column name {} and unique values are {}\".format(i,len(df[i].unique())))"
      ],
      "execution_count": 8,
      "outputs": [
        {
          "output_type": "stream",
          "name": "stdout",
          "text": [
            "Column name MSSubClass and unique values are 15\n",
            "Column name MSZoning and unique values are 5\n",
            "Column name LotFrontage and unique values are 110\n",
            "Column name LotArea and unique values are 869\n",
            "Column name Street and unique values are 2\n",
            "Column name LotShape and unique values are 4\n",
            "Column name YearBuilt and unique values are 112\n",
            "Column name 1stFlrSF and unique values are 678\n",
            "Column name 2ndFlrSF and unique values are 368\n",
            "Column name SalePrice and unique values are 597\n"
          ]
        }
      ]
    },
    {
      "cell_type": "code",
      "metadata": {
        "colab": {
          "base_uri": "https://localhost:8080/"
        },
        "id": "3JQp7oJfVF0P",
        "outputId": "4a0c5c40-0736-41d1-f4d2-5c510b883cef"
      },
      "source": [
        "import datetime\n",
        "datetime.datetime.now().year"
      ],
      "execution_count": 9,
      "outputs": [
        {
          "output_type": "execute_result",
          "data": {
            "text/plain": [
              "2021"
            ]
          },
          "metadata": {},
          "execution_count": 9
        }
      ]
    },
    {
      "cell_type": "code",
      "metadata": {
        "id": "WSzNl1-qVUcN"
      },
      "source": [
        "df['Total Years'] = datetime.datetime.now().year-df['YearBuilt']"
      ],
      "execution_count": 10,
      "outputs": []
    },
    {
      "cell_type": "code",
      "metadata": {
        "colab": {
          "base_uri": "https://localhost:8080/",
          "height": 204
        },
        "id": "4Jzv-9LbW8x2",
        "outputId": "15037814-319b-4db4-9e9d-886d266ea05e"
      },
      "source": [
        "df.head()"
      ],
      "execution_count": 11,
      "outputs": [
        {
          "output_type": "execute_result",
          "data": {
            "text/html": [
              "<div>\n",
              "<style scoped>\n",
              "    .dataframe tbody tr th:only-of-type {\n",
              "        vertical-align: middle;\n",
              "    }\n",
              "\n",
              "    .dataframe tbody tr th {\n",
              "        vertical-align: top;\n",
              "    }\n",
              "\n",
              "    .dataframe thead th {\n",
              "        text-align: right;\n",
              "    }\n",
              "</style>\n",
              "<table border=\"1\" class=\"dataframe\">\n",
              "  <thead>\n",
              "    <tr style=\"text-align: right;\">\n",
              "      <th></th>\n",
              "      <th>MSSubClass</th>\n",
              "      <th>MSZoning</th>\n",
              "      <th>LotFrontage</th>\n",
              "      <th>LotArea</th>\n",
              "      <th>Street</th>\n",
              "      <th>LotShape</th>\n",
              "      <th>YearBuilt</th>\n",
              "      <th>1stFlrSF</th>\n",
              "      <th>2ndFlrSF</th>\n",
              "      <th>SalePrice</th>\n",
              "      <th>Total Years</th>\n",
              "    </tr>\n",
              "  </thead>\n",
              "  <tbody>\n",
              "    <tr>\n",
              "      <th>0</th>\n",
              "      <td>60</td>\n",
              "      <td>RL</td>\n",
              "      <td>65.0</td>\n",
              "      <td>8450</td>\n",
              "      <td>Pave</td>\n",
              "      <td>Reg</td>\n",
              "      <td>2003</td>\n",
              "      <td>856</td>\n",
              "      <td>854</td>\n",
              "      <td>208500</td>\n",
              "      <td>18</td>\n",
              "    </tr>\n",
              "    <tr>\n",
              "      <th>1</th>\n",
              "      <td>20</td>\n",
              "      <td>RL</td>\n",
              "      <td>80.0</td>\n",
              "      <td>9600</td>\n",
              "      <td>Pave</td>\n",
              "      <td>Reg</td>\n",
              "      <td>1976</td>\n",
              "      <td>1262</td>\n",
              "      <td>0</td>\n",
              "      <td>181500</td>\n",
              "      <td>45</td>\n",
              "    </tr>\n",
              "    <tr>\n",
              "      <th>2</th>\n",
              "      <td>60</td>\n",
              "      <td>RL</td>\n",
              "      <td>68.0</td>\n",
              "      <td>11250</td>\n",
              "      <td>Pave</td>\n",
              "      <td>IR1</td>\n",
              "      <td>2001</td>\n",
              "      <td>920</td>\n",
              "      <td>866</td>\n",
              "      <td>223500</td>\n",
              "      <td>20</td>\n",
              "    </tr>\n",
              "    <tr>\n",
              "      <th>3</th>\n",
              "      <td>70</td>\n",
              "      <td>RL</td>\n",
              "      <td>60.0</td>\n",
              "      <td>9550</td>\n",
              "      <td>Pave</td>\n",
              "      <td>IR1</td>\n",
              "      <td>1915</td>\n",
              "      <td>961</td>\n",
              "      <td>756</td>\n",
              "      <td>140000</td>\n",
              "      <td>106</td>\n",
              "    </tr>\n",
              "    <tr>\n",
              "      <th>4</th>\n",
              "      <td>60</td>\n",
              "      <td>RL</td>\n",
              "      <td>84.0</td>\n",
              "      <td>14260</td>\n",
              "      <td>Pave</td>\n",
              "      <td>IR1</td>\n",
              "      <td>2000</td>\n",
              "      <td>1145</td>\n",
              "      <td>1053</td>\n",
              "      <td>250000</td>\n",
              "      <td>21</td>\n",
              "    </tr>\n",
              "  </tbody>\n",
              "</table>\n",
              "</div>"
            ],
            "text/plain": [
              "   MSSubClass MSZoning  LotFrontage  ...  2ndFlrSF SalePrice Total Years\n",
              "0          60       RL         65.0  ...       854    208500          18\n",
              "1          20       RL         80.0  ...         0    181500          45\n",
              "2          60       RL         68.0  ...       866    223500          20\n",
              "3          70       RL         60.0  ...       756    140000         106\n",
              "4          60       RL         84.0  ...      1053    250000          21\n",
              "\n",
              "[5 rows x 11 columns]"
            ]
          },
          "metadata": {},
          "execution_count": 11
        }
      ]
    },
    {
      "cell_type": "code",
      "metadata": {
        "id": "3SxNJWETWh2Y"
      },
      "source": [
        "df.drop(\"YearBuilt\",axis=1,inplace=True)"
      ],
      "execution_count": 12,
      "outputs": []
    },
    {
      "cell_type": "code",
      "metadata": {
        "colab": {
          "base_uri": "https://localhost:8080/"
        },
        "id": "7BlAhY6jWquC",
        "outputId": "4fbf8b85-9a2f-4f07-ec24-8e7213be7fde"
      },
      "source": [
        "df.columns"
      ],
      "execution_count": 13,
      "outputs": [
        {
          "output_type": "execute_result",
          "data": {
            "text/plain": [
              "Index(['MSSubClass', 'MSZoning', 'LotFrontage', 'LotArea', 'Street',\n",
              "       'LotShape', '1stFlrSF', '2ndFlrSF', 'SalePrice', 'Total Years'],\n",
              "      dtype='object')"
            ]
          },
          "metadata": {},
          "execution_count": 13
        }
      ]
    },
    {
      "cell_type": "code",
      "metadata": {
        "id": "Ui_YcKe_XUQH"
      },
      "source": [
        "cat_features = [\"MSSubClass\",\"MSZoning\",\"Street\",\"LotShape\"]\n",
        "out_features=\"SalePrice\""
      ],
      "execution_count": 14,
      "outputs": []
    },
    {
      "cell_type": "code",
      "metadata": {
        "colab": {
          "base_uri": "https://localhost:8080/"
        },
        "id": "FH3IEvL1YzNg",
        "outputId": "e5ec28ca-bdb8-4d55-baef-c2b3c62eb272"
      },
      "source": [
        "df[\"MSSubClass\"].unique()"
      ],
      "execution_count": 16,
      "outputs": [
        {
          "output_type": "execute_result",
          "data": {
            "text/plain": [
              "array([ 60,  20,  70,  50, 190,  45,  90, 120,  30,  80, 160,  75, 180,\n",
              "        40,  85])"
            ]
          },
          "metadata": {},
          "execution_count": 16
        }
      ]
    },
    {
      "cell_type": "code",
      "metadata": {
        "colab": {
          "base_uri": "https://localhost:8080/"
        },
        "id": "n2u_mb1rXreF",
        "outputId": "740e9de9-d13b-4397-fac4-a33a34a77a8e"
      },
      "source": [
        "from sklearn.preprocessing import LabelEncoder\n",
        "lbl_encoders={}\n",
        "lbl_encoders[\"MSSubClass\"]=LabelEncoder()\n",
        "lbl_encoders[\"MSSubClass\"].fit_transform(df[\"MSSubClass\"])"
      ],
      "execution_count": 17,
      "outputs": [
        {
          "output_type": "execute_result",
          "data": {
            "text/plain": [
              "array([5, 0, 5, ..., 6, 0, 0])"
            ]
          },
          "metadata": {},
          "execution_count": 17
        }
      ]
    },
    {
      "cell_type": "code",
      "metadata": {
        "colab": {
          "base_uri": "https://localhost:8080/"
        },
        "id": "HMCjU6jvYqSY",
        "outputId": "1c4b4a5a-fc19-4cd8-d654-a41e1b654dbb"
      },
      "source": [
        "lbl_encoders"
      ],
      "execution_count": 18,
      "outputs": [
        {
          "output_type": "execute_result",
          "data": {
            "text/plain": [
              "{'MSSubClass': LabelEncoder()}"
            ]
          },
          "metadata": {},
          "execution_count": 18
        }
      ]
    },
    {
      "cell_type": "code",
      "metadata": {
        "id": "1c4VyZn1ZQwd"
      },
      "source": [
        "from sklearn.preprocessing import LabelEncoder\n",
        "lbl_encoders={}\n",
        "for feature in cat_features:\n",
        "  lbl_encoders[feature]=LabelEncoder()\n",
        "  df[feature]=lbl_encoders[feature].fit_transform(df[feature])\n"
      ],
      "execution_count": 19,
      "outputs": []
    },
    {
      "cell_type": "code",
      "metadata": {
        "colab": {
          "base_uri": "https://localhost:8080/",
          "height": 419
        },
        "id": "lGzQiFhDaMdD",
        "outputId": "516879eb-177a-41da-b7e2-929683e2a8b7"
      },
      "source": [
        "df"
      ],
      "execution_count": 20,
      "outputs": [
        {
          "output_type": "execute_result",
          "data": {
            "text/html": [
              "<div>\n",
              "<style scoped>\n",
              "    .dataframe tbody tr th:only-of-type {\n",
              "        vertical-align: middle;\n",
              "    }\n",
              "\n",
              "    .dataframe tbody tr th {\n",
              "        vertical-align: top;\n",
              "    }\n",
              "\n",
              "    .dataframe thead th {\n",
              "        text-align: right;\n",
              "    }\n",
              "</style>\n",
              "<table border=\"1\" class=\"dataframe\">\n",
              "  <thead>\n",
              "    <tr style=\"text-align: right;\">\n",
              "      <th></th>\n",
              "      <th>MSSubClass</th>\n",
              "      <th>MSZoning</th>\n",
              "      <th>LotFrontage</th>\n",
              "      <th>LotArea</th>\n",
              "      <th>Street</th>\n",
              "      <th>LotShape</th>\n",
              "      <th>1stFlrSF</th>\n",
              "      <th>2ndFlrSF</th>\n",
              "      <th>SalePrice</th>\n",
              "      <th>Total Years</th>\n",
              "    </tr>\n",
              "  </thead>\n",
              "  <tbody>\n",
              "    <tr>\n",
              "      <th>0</th>\n",
              "      <td>5</td>\n",
              "      <td>3</td>\n",
              "      <td>65.0</td>\n",
              "      <td>8450</td>\n",
              "      <td>1</td>\n",
              "      <td>3</td>\n",
              "      <td>856</td>\n",
              "      <td>854</td>\n",
              "      <td>208500</td>\n",
              "      <td>18</td>\n",
              "    </tr>\n",
              "    <tr>\n",
              "      <th>1</th>\n",
              "      <td>0</td>\n",
              "      <td>3</td>\n",
              "      <td>80.0</td>\n",
              "      <td>9600</td>\n",
              "      <td>1</td>\n",
              "      <td>3</td>\n",
              "      <td>1262</td>\n",
              "      <td>0</td>\n",
              "      <td>181500</td>\n",
              "      <td>45</td>\n",
              "    </tr>\n",
              "    <tr>\n",
              "      <th>2</th>\n",
              "      <td>5</td>\n",
              "      <td>3</td>\n",
              "      <td>68.0</td>\n",
              "      <td>11250</td>\n",
              "      <td>1</td>\n",
              "      <td>0</td>\n",
              "      <td>920</td>\n",
              "      <td>866</td>\n",
              "      <td>223500</td>\n",
              "      <td>20</td>\n",
              "    </tr>\n",
              "    <tr>\n",
              "      <th>3</th>\n",
              "      <td>6</td>\n",
              "      <td>3</td>\n",
              "      <td>60.0</td>\n",
              "      <td>9550</td>\n",
              "      <td>1</td>\n",
              "      <td>0</td>\n",
              "      <td>961</td>\n",
              "      <td>756</td>\n",
              "      <td>140000</td>\n",
              "      <td>106</td>\n",
              "    </tr>\n",
              "    <tr>\n",
              "      <th>4</th>\n",
              "      <td>5</td>\n",
              "      <td>3</td>\n",
              "      <td>84.0</td>\n",
              "      <td>14260</td>\n",
              "      <td>1</td>\n",
              "      <td>0</td>\n",
              "      <td>1145</td>\n",
              "      <td>1053</td>\n",
              "      <td>250000</td>\n",
              "      <td>21</td>\n",
              "    </tr>\n",
              "    <tr>\n",
              "      <th>...</th>\n",
              "      <td>...</td>\n",
              "      <td>...</td>\n",
              "      <td>...</td>\n",
              "      <td>...</td>\n",
              "      <td>...</td>\n",
              "      <td>...</td>\n",
              "      <td>...</td>\n",
              "      <td>...</td>\n",
              "      <td>...</td>\n",
              "      <td>...</td>\n",
              "    </tr>\n",
              "    <tr>\n",
              "      <th>1455</th>\n",
              "      <td>5</td>\n",
              "      <td>3</td>\n",
              "      <td>62.0</td>\n",
              "      <td>7917</td>\n",
              "      <td>1</td>\n",
              "      <td>3</td>\n",
              "      <td>953</td>\n",
              "      <td>694</td>\n",
              "      <td>175000</td>\n",
              "      <td>22</td>\n",
              "    </tr>\n",
              "    <tr>\n",
              "      <th>1456</th>\n",
              "      <td>0</td>\n",
              "      <td>3</td>\n",
              "      <td>85.0</td>\n",
              "      <td>13175</td>\n",
              "      <td>1</td>\n",
              "      <td>3</td>\n",
              "      <td>2073</td>\n",
              "      <td>0</td>\n",
              "      <td>210000</td>\n",
              "      <td>43</td>\n",
              "    </tr>\n",
              "    <tr>\n",
              "      <th>1457</th>\n",
              "      <td>6</td>\n",
              "      <td>3</td>\n",
              "      <td>66.0</td>\n",
              "      <td>9042</td>\n",
              "      <td>1</td>\n",
              "      <td>3</td>\n",
              "      <td>1188</td>\n",
              "      <td>1152</td>\n",
              "      <td>266500</td>\n",
              "      <td>80</td>\n",
              "    </tr>\n",
              "    <tr>\n",
              "      <th>1458</th>\n",
              "      <td>0</td>\n",
              "      <td>3</td>\n",
              "      <td>68.0</td>\n",
              "      <td>9717</td>\n",
              "      <td>1</td>\n",
              "      <td>3</td>\n",
              "      <td>1078</td>\n",
              "      <td>0</td>\n",
              "      <td>142125</td>\n",
              "      <td>71</td>\n",
              "    </tr>\n",
              "    <tr>\n",
              "      <th>1459</th>\n",
              "      <td>0</td>\n",
              "      <td>3</td>\n",
              "      <td>75.0</td>\n",
              "      <td>9937</td>\n",
              "      <td>1</td>\n",
              "      <td>3</td>\n",
              "      <td>1256</td>\n",
              "      <td>0</td>\n",
              "      <td>147500</td>\n",
              "      <td>56</td>\n",
              "    </tr>\n",
              "  </tbody>\n",
              "</table>\n",
              "<p>1201 rows × 10 columns</p>\n",
              "</div>"
            ],
            "text/plain": [
              "      MSSubClass  MSZoning  LotFrontage  ...  2ndFlrSF  SalePrice  Total Years\n",
              "0              5         3         65.0  ...       854     208500           18\n",
              "1              0         3         80.0  ...         0     181500           45\n",
              "2              5         3         68.0  ...       866     223500           20\n",
              "3              6         3         60.0  ...       756     140000          106\n",
              "4              5         3         84.0  ...      1053     250000           21\n",
              "...          ...       ...          ...  ...       ...        ...          ...\n",
              "1455           5         3         62.0  ...       694     175000           22\n",
              "1456           0         3         85.0  ...         0     210000           43\n",
              "1457           6         3         66.0  ...      1152     266500           80\n",
              "1458           0         3         68.0  ...         0     142125           71\n",
              "1459           0         3         75.0  ...         0     147500           56\n",
              "\n",
              "[1201 rows x 10 columns]"
            ]
          },
          "metadata": {},
          "execution_count": 20
        }
      ]
    },
    {
      "cell_type": "code",
      "metadata": {
        "id": "9gBL7x3s7U4G"
      },
      "source": [
        "import numpy as np\n"
      ],
      "execution_count": 21,
      "outputs": []
    },
    {
      "cell_type": "code",
      "metadata": {
        "id": "LB3jm7QuZQ2p",
        "colab": {
          "base_uri": "https://localhost:8080/"
        },
        "outputId": "84f75826-5839-4200-e305-926da69fca0b"
      },
      "source": [
        "####Stacking and converting Into Tensors\n",
        "cat_features = np.stack([df['MSSubClass'],df['MSZoning'],df['Street'],df['LotShape']],1)\n",
        "cat_features"
      ],
      "execution_count": 22,
      "outputs": [
        {
          "output_type": "execute_result",
          "data": {
            "text/plain": [
              "array([[5, 3, 1, 3],\n",
              "       [0, 3, 1, 3],\n",
              "       [5, 3, 1, 0],\n",
              "       ...,\n",
              "       [6, 3, 1, 3],\n",
              "       [0, 3, 1, 3],\n",
              "       [0, 3, 1, 3]])"
            ]
          },
          "metadata": {},
          "execution_count": 22
        }
      ]
    },
    {
      "cell_type": "code",
      "metadata": {
        "colab": {
          "base_uri": "https://localhost:8080/"
        },
        "id": "4U_fxKJdi6cn",
        "outputId": "acb1cfed-943b-4317-8627-6bbb849d93e0"
      },
      "source": [
        "cat_features.shape"
      ],
      "execution_count": 23,
      "outputs": [
        {
          "output_type": "execute_result",
          "data": {
            "text/plain": [
              "(1201, 4)"
            ]
          },
          "metadata": {},
          "execution_count": 23
        }
      ]
    },
    {
      "cell_type": "code",
      "metadata": {
        "colab": {
          "base_uri": "https://localhost:8080/"
        },
        "id": "3KcKqdsX7lGy",
        "outputId": "af403d58-b1b6-4b6b-a13f-9bc01928ef7e"
      },
      "source": [
        "####Convert numpy to Tensors\n",
        "import torch\n",
        "cat_features=torch.tensor(cat_features,dtype=torch.int64)\n",
        "cat_features"
      ],
      "execution_count": 24,
      "outputs": [
        {
          "output_type": "execute_result",
          "data": {
            "text/plain": [
              "tensor([[5, 3, 1, 3],\n",
              "        [0, 3, 1, 3],\n",
              "        [5, 3, 1, 0],\n",
              "        ...,\n",
              "        [6, 3, 1, 3],\n",
              "        [0, 3, 1, 3],\n",
              "        [0, 3, 1, 3]])"
            ]
          },
          "metadata": {},
          "execution_count": 24
        }
      ]
    },
    {
      "cell_type": "code",
      "metadata": {
        "colab": {
          "base_uri": "https://localhost:8080/"
        },
        "id": "P6Qf_6qjdLAS",
        "outputId": "6fdd30a5-20e1-4a02-c96e-21c22417c7cb"
      },
      "source": [
        "cat_features.shape"
      ],
      "execution_count": 25,
      "outputs": [
        {
          "output_type": "execute_result",
          "data": {
            "text/plain": [
              "torch.Size([1201, 4])"
            ]
          },
          "metadata": {},
          "execution_count": 25
        }
      ]
    },
    {
      "cell_type": "code",
      "metadata": {
        "id": "ohIU97k_8OnK"
      },
      "source": [
        "###create continous variable\n",
        "cont_features=[]\n",
        "for i in df.columns:\n",
        "  if i in [\"MSSubClass\",\"MSZoning\",\"Street\",\"LotShape\",\"SalePrice\"]:\n",
        "       pass\n",
        "  else:\n",
        "    cont_features.append(i)    \n"
      ],
      "execution_count": 26,
      "outputs": []
    },
    {
      "cell_type": "code",
      "metadata": {
        "colab": {
          "base_uri": "https://localhost:8080/"
        },
        "id": "oEa1Pk619GVN",
        "outputId": "8cf18ec8-ed7a-4447-e179-1a61fbb7014f"
      },
      "source": [
        "cont_features"
      ],
      "execution_count": 27,
      "outputs": [
        {
          "output_type": "execute_result",
          "data": {
            "text/plain": [
              "['LotFrontage', 'LotArea', '1stFlrSF', '2ndFlrSF', 'Total Years']"
            ]
          },
          "metadata": {},
          "execution_count": 27
        }
      ]
    },
    {
      "cell_type": "code",
      "metadata": {
        "id": "Y9FXn9rt7lZz"
      },
      "source": [
        "###Stacking continous variable into Tensor\n",
        "cont_values = np.stack([df[i].values for i in cont_features],axis=1)\n",
        "cont_values = torch.tensor(cont_values,dtype=torch.float)"
      ],
      "execution_count": 28,
      "outputs": []
    },
    {
      "cell_type": "code",
      "metadata": {
        "colab": {
          "base_uri": "https://localhost:8080/"
        },
        "id": "Y1mn5de77lgl",
        "outputId": "7706eb5f-8e84-4053-d12c-5c6b2383e471"
      },
      "source": [
        "cont_values.dtype"
      ],
      "execution_count": 29,
      "outputs": [
        {
          "output_type": "execute_result",
          "data": {
            "text/plain": [
              "torch.float32"
            ]
          },
          "metadata": {},
          "execution_count": 29
        }
      ]
    },
    {
      "cell_type": "code",
      "metadata": {
        "id": "FBLgdu10_C0w"
      },
      "source": [
        "y = torch.tensor(df['SalePrice'].values,dtype=torch.float).reshape(-1,1)"
      ],
      "execution_count": 30,
      "outputs": []
    },
    {
      "cell_type": "code",
      "metadata": {
        "colab": {
          "base_uri": "https://localhost:8080/"
        },
        "id": "YLKpivU6_DGt",
        "outputId": "b18956a4-d5ff-40ac-92e4-9673ce8aab86"
      },
      "source": [
        "y"
      ],
      "execution_count": 31,
      "outputs": [
        {
          "output_type": "execute_result",
          "data": {
            "text/plain": [
              "tensor([[208500.],\n",
              "        [181500.],\n",
              "        [223500.],\n",
              "        ...,\n",
              "        [266500.],\n",
              "        [142125.],\n",
              "        [147500.]])"
            ]
          },
          "metadata": {},
          "execution_count": 31
        }
      ]
    },
    {
      "cell_type": "code",
      "metadata": {
        "colab": {
          "base_uri": "https://localhost:8080/"
        },
        "id": "BAld0DXR_DSe",
        "outputId": "8775849d-11fa-4ee5-e68e-d3f5d851eb6c"
      },
      "source": [
        "df.info()"
      ],
      "execution_count": 32,
      "outputs": [
        {
          "output_type": "stream",
          "name": "stdout",
          "text": [
            "<class 'pandas.core.frame.DataFrame'>\n",
            "Int64Index: 1201 entries, 0 to 1459\n",
            "Data columns (total 10 columns):\n",
            " #   Column       Non-Null Count  Dtype  \n",
            "---  ------       --------------  -----  \n",
            " 0   MSSubClass   1201 non-null   int64  \n",
            " 1   MSZoning     1201 non-null   int64  \n",
            " 2   LotFrontage  1201 non-null   float64\n",
            " 3   LotArea      1201 non-null   int64  \n",
            " 4   Street       1201 non-null   int64  \n",
            " 5   LotShape     1201 non-null   int64  \n",
            " 6   1stFlrSF     1201 non-null   int64  \n",
            " 7   2ndFlrSF     1201 non-null   int64  \n",
            " 8   SalePrice    1201 non-null   int64  \n",
            " 9   Total Years  1201 non-null   int64  \n",
            "dtypes: float64(1), int64(9)\n",
            "memory usage: 103.2 KB\n"
          ]
        }
      ]
    },
    {
      "cell_type": "code",
      "metadata": {
        "colab": {
          "base_uri": "https://localhost:8080/"
        },
        "id": "DRLlB5kU_DWu",
        "outputId": "b5e1b30e-a2de-4dca-f2fb-1b27519c4885"
      },
      "source": [
        "cat_features.shape,cont_values.shape,y.shape"
      ],
      "execution_count": 33,
      "outputs": [
        {
          "output_type": "execute_result",
          "data": {
            "text/plain": [
              "(torch.Size([1201, 4]), torch.Size([1201, 5]), torch.Size([1201, 1]))"
            ]
          },
          "metadata": {},
          "execution_count": 33
        }
      ]
    },
    {
      "cell_type": "code",
      "metadata": {
        "colab": {
          "base_uri": "https://localhost:8080/"
        },
        "id": "9SYLVEDm_DrI",
        "outputId": "a768079f-c619-417f-f966-7a4c1ce52d8b"
      },
      "source": [
        "len(df['MSSubClass'].unique())"
      ],
      "execution_count": 34,
      "outputs": [
        {
          "output_type": "execute_result",
          "data": {
            "text/plain": [
              "15"
            ]
          },
          "metadata": {},
          "execution_count": 34
        }
      ]
    },
    {
      "cell_type": "markdown",
      "metadata": {
        "id": "Zupl0YsuAA9Z"
      },
      "source": [
        " **EMBEDDING SIZE FOR CATEGORICAL COLUMNS**"
      ]
    },
    {
      "cell_type": "code",
      "metadata": {
        "id": "nPCzlfDh_Dvf"
      },
      "source": [
        "cat_dims=[len(df[col].unique()) for col in [\"MSSubClass\",\"MSZoning\",\"Street\",\"LotShape\"]]"
      ],
      "execution_count": 35,
      "outputs": []
    },
    {
      "cell_type": "code",
      "metadata": {
        "colab": {
          "base_uri": "https://localhost:8080/"
        },
        "id": "Yxfhfnpe7lnL",
        "outputId": "d623b6a4-bf6c-473f-af1d-56c127bd815e"
      },
      "source": [
        "cat_dims"
      ],
      "execution_count": 36,
      "outputs": [
        {
          "output_type": "execute_result",
          "data": {
            "text/plain": [
              "[15, 5, 2, 4]"
            ]
          },
          "metadata": {},
          "execution_count": 36
        }
      ]
    },
    {
      "cell_type": "code",
      "metadata": {
        "id": "OZncrRBh7lrd"
      },
      "source": [
        "###Output dimension should be set based on input dimension(min(50,feature dimension/2))\n",
        "embedding_dim = [(x,min(50,(x+1)//2)) for x in cat_dims]"
      ],
      "execution_count": 37,
      "outputs": []
    },
    {
      "cell_type": "code",
      "metadata": {
        "id": "hteTiyAMZQ4z",
        "colab": {
          "base_uri": "https://localhost:8080/"
        },
        "outputId": "ce001638-2399-4593-c0a2-638718a441a5"
      },
      "source": [
        "embedding_dim"
      ],
      "execution_count": 38,
      "outputs": [
        {
          "output_type": "execute_result",
          "data": {
            "text/plain": [
              "[(15, 8), (5, 3), (2, 1), (4, 2)]"
            ]
          },
          "metadata": {},
          "execution_count": 38
        }
      ]
    },
    {
      "cell_type": "code",
      "metadata": {
        "id": "hTIHztf1ZQ-H",
        "colab": {
          "base_uri": "https://localhost:8080/"
        },
        "outputId": "c8d101c7-b9c8-444b-d5d4-ae3c63634fb9"
      },
      "source": [
        "import torch\n",
        "import torch.nn as nn\n",
        "import torch.nn.functional as F\n",
        "embed_representation = nn.ModuleList([nn.Embedding(inp,out) for inp,out in embedding_dim])\n",
        "embed_representation"
      ],
      "execution_count": 39,
      "outputs": [
        {
          "output_type": "execute_result",
          "data": {
            "text/plain": [
              "ModuleList(\n",
              "  (0): Embedding(15, 8)\n",
              "  (1): Embedding(5, 3)\n",
              "  (2): Embedding(2, 1)\n",
              "  (3): Embedding(4, 2)\n",
              ")"
            ]
          },
          "metadata": {},
          "execution_count": 39
        }
      ]
    },
    {
      "cell_type": "code",
      "metadata": {
        "id": "Ulx-ZRxNZROE",
        "colab": {
          "base_uri": "https://localhost:8080/"
        },
        "outputId": "6c97cefd-89ad-4757-ce34-dc206f15fe12"
      },
      "source": [
        "cat_features"
      ],
      "execution_count": 40,
      "outputs": [
        {
          "output_type": "execute_result",
          "data": {
            "text/plain": [
              "tensor([[5, 3, 1, 3],\n",
              "        [0, 3, 1, 3],\n",
              "        [5, 3, 1, 0],\n",
              "        ...,\n",
              "        [6, 3, 1, 3],\n",
              "        [0, 3, 1, 3],\n",
              "        [0, 3, 1, 3]])"
            ]
          },
          "metadata": {},
          "execution_count": 40
        }
      ]
    },
    {
      "cell_type": "code",
      "metadata": {
        "colab": {
          "base_uri": "https://localhost:8080/"
        },
        "id": "rjoA-j5VdAa5",
        "outputId": "33c45b89-7d12-42a6-db79-df879d815c9b"
      },
      "source": [
        "cat_features.shape"
      ],
      "execution_count": 41,
      "outputs": [
        {
          "output_type": "execute_result",
          "data": {
            "text/plain": [
              "torch.Size([1201, 4])"
            ]
          },
          "metadata": {},
          "execution_count": 41
        }
      ]
    },
    {
      "cell_type": "code",
      "metadata": {
        "id": "iYNZxbfGZRSY",
        "colab": {
          "base_uri": "https://localhost:8080/"
        },
        "outputId": "b2d75794-5c18-4fe7-e743-55d5827a3299"
      },
      "source": [
        "cat_featuresz=cat_features[:4]\n",
        "cat_featuresz"
      ],
      "execution_count": 42,
      "outputs": [
        {
          "output_type": "execute_result",
          "data": {
            "text/plain": [
              "tensor([[5, 3, 1, 3],\n",
              "        [0, 3, 1, 3],\n",
              "        [5, 3, 1, 0],\n",
              "        [6, 3, 1, 0]])"
            ]
          },
          "metadata": {},
          "execution_count": 42
        }
      ]
    },
    {
      "cell_type": "code",
      "metadata": {
        "id": "oDmufM96D_3Y"
      },
      "source": [
        "pd.set_option('display.max_rows',500)\n",
        "embedding_val=[]\n",
        "for i,e in enumerate(embed_representation):\n",
        "  embedding_val.append(e(cat_features[:,i]))"
      ],
      "execution_count": 43,
      "outputs": []
    },
    {
      "cell_type": "code",
      "metadata": {
        "id": "yzIsh3D9F3E6",
        "colab": {
          "base_uri": "https://localhost:8080/"
        },
        "outputId": "8ef3affc-b6be-4881-e214-2b4304c3193f"
      },
      "source": [
        "embedding_val"
      ],
      "execution_count": 44,
      "outputs": [
        {
          "output_type": "execute_result",
          "data": {
            "text/plain": [
              "[tensor([[-0.2544,  1.2148,  0.7720,  ..., -0.3837, -1.5547,  0.2135],\n",
              "         [-0.8857,  0.0156,  0.5427,  ..., -1.4277, -0.9243, -0.0050],\n",
              "         [-0.2544,  1.2148,  0.7720,  ..., -0.3837, -1.5547,  0.2135],\n",
              "         ...,\n",
              "         [-0.6608, -0.5022, -0.2172,  ...,  0.3425, -2.1917, -2.6593],\n",
              "         [-0.8857,  0.0156,  0.5427,  ..., -1.4277, -0.9243, -0.0050],\n",
              "         [-0.8857,  0.0156,  0.5427,  ..., -1.4277, -0.9243, -0.0050]],\n",
              "        grad_fn=<EmbeddingBackward0>), tensor([[-0.9896,  0.5624, -1.2286],\n",
              "         [-0.9896,  0.5624, -1.2286],\n",
              "         [-0.9896,  0.5624, -1.2286],\n",
              "         ...,\n",
              "         [-0.9896,  0.5624, -1.2286],\n",
              "         [-0.9896,  0.5624, -1.2286],\n",
              "         [-0.9896,  0.5624, -1.2286]], grad_fn=<EmbeddingBackward0>), tensor([[0.1388],\n",
              "         [0.1388],\n",
              "         [0.1388],\n",
              "         ...,\n",
              "         [0.1388],\n",
              "         [0.1388],\n",
              "         [0.1388]], grad_fn=<EmbeddingBackward0>), tensor([[-0.3866,  0.4588],\n",
              "         [-0.3866,  0.4588],\n",
              "         [-1.4364, -2.4821],\n",
              "         ...,\n",
              "         [-0.3866,  0.4588],\n",
              "         [-0.3866,  0.4588],\n",
              "         [-0.3866,  0.4588]], grad_fn=<EmbeddingBackward0>)]"
            ]
          },
          "metadata": {},
          "execution_count": 44
        }
      ]
    },
    {
      "cell_type": "code",
      "metadata": {
        "colab": {
          "base_uri": "https://localhost:8080/"
        },
        "id": "dhA_dMA5OWJF",
        "outputId": "6864fb8f-e3ed-45a2-abec-d5b247abddbd"
      },
      "source": [
        "z = torch.cat(embedding_val,1)\n",
        "z"
      ],
      "execution_count": 45,
      "outputs": [
        {
          "output_type": "execute_result",
          "data": {
            "text/plain": [
              "tensor([[-0.2544,  1.2148,  0.7720,  ...,  0.1388, -0.3866,  0.4588],\n",
              "        [-0.8857,  0.0156,  0.5427,  ...,  0.1388, -0.3866,  0.4588],\n",
              "        [-0.2544,  1.2148,  0.7720,  ...,  0.1388, -1.4364, -2.4821],\n",
              "        ...,\n",
              "        [-0.6608, -0.5022, -0.2172,  ...,  0.1388, -0.3866,  0.4588],\n",
              "        [-0.8857,  0.0156,  0.5427,  ...,  0.1388, -0.3866,  0.4588],\n",
              "        [-0.8857,  0.0156,  0.5427,  ...,  0.1388, -0.3866,  0.4588]],\n",
              "       grad_fn=<CatBackward0>)"
            ]
          },
          "metadata": {},
          "execution_count": 45
        }
      ]
    },
    {
      "cell_type": "code",
      "metadata": {
        "id": "KIBnAiAWSLRT"
      },
      "source": [
        "dropout = nn.Dropout(.4)"
      ],
      "execution_count": 46,
      "outputs": []
    },
    {
      "cell_type": "code",
      "metadata": {
        "colab": {
          "base_uri": "https://localhost:8080/"
        },
        "id": "KB78l7bJSj3q",
        "outputId": "f3fb31b6-e0f0-43e7-cd1c-baa8c6aa5d53"
      },
      "source": [
        "final_embed= dropout(z)\n",
        "final_embed"
      ],
      "execution_count": 47,
      "outputs": [
        {
          "output_type": "execute_result",
          "data": {
            "text/plain": [
              "tensor([[-0.4241,  0.0000,  0.0000,  ...,  0.2313, -0.6443,  0.7646],\n",
              "        [-0.0000,  0.0000,  0.9044,  ...,  0.0000, -0.0000,  0.7646],\n",
              "        [-0.4241,  0.0000,  0.0000,  ...,  0.0000, -2.3940, -4.1369],\n",
              "        ...,\n",
              "        [-1.1013, -0.8370, -0.0000,  ...,  0.2313, -0.0000,  0.7646],\n",
              "        [-1.4762,  0.0000,  0.9044,  ...,  0.2313, -0.0000,  0.7646],\n",
              "        [-0.0000,  0.0260,  0.9044,  ...,  0.2313, -0.0000,  0.0000]],\n",
              "       grad_fn=<MulBackward0>)"
            ]
          },
          "metadata": {},
          "execution_count": 47
        }
      ]
    },
    {
      "cell_type": "code",
      "metadata": {
        "id": "mc3ugFyoS2d9"
      },
      "source": [
        "import torch\n",
        "import torch.nn.functional as F\n",
        "import torch.nn as nn\n",
        "class FeedForwardNN(nn.Module):\n",
        "  def __init__(self,embedding_dim,n_cont,out_sz,layers,p=0.5):\n",
        "      super().__init__()\n",
        "      self.embeds = nn.ModuleList([nn.Embedding(inp,out) for inp,out in embedding_dim])\n",
        "      self.emb_drop = nn.Dropout(p)\n",
        "      self.bn_cont = nn.BatchNorm1d(n_cont)\n",
        "\n",
        "      layerlist = []\n",
        "      n_emb = sum((out for inp,out in embedding_dim))\n",
        "      n_in = n_emb + n_cont\n",
        "\n",
        "      for i in layers:\n",
        "        layerlist.append(nn.Linear(n_in,i))\n",
        "        layerlist.append(nn.ReLU(inplace=True))\n",
        "        layerlist.append(nn.BatchNorm1d(i))\n",
        "        layerlist.append(nn.Dropout(p))\n",
        "        n_in = i\n",
        "      layerlist.append(nn.Linear(layers[-1],out_sz))\n",
        "      self.layers = nn.Sequential(*layerlist)\n",
        "\n",
        "  def forward(self,x_cat,x_cont):\n",
        "    embeddings=[]\n",
        "    for i,e in enumerate(self.embeds):\n",
        "      embeddings.append(e(x_cat[:,i]))\n",
        "    x = torch.cat(embeddings,1)\n",
        "    x = self.emb_drop(x)\n",
        "\n",
        "    x_cont = self.bn_cont(x_cont)\n",
        "    x = torch.cat([x,x_cont],1)\n",
        "    x = self.layers(x)\n",
        "    return x      \n"
      ],
      "execution_count": 48,
      "outputs": []
    },
    {
      "cell_type": "code",
      "metadata": {
        "colab": {
          "base_uri": "https://localhost:8080/"
        },
        "id": "iaZ26kYcTQOQ",
        "outputId": "7856064b-7174-4552-cfc4-c5cb4efa8652"
      },
      "source": [
        "len(cont_features)"
      ],
      "execution_count": 49,
      "outputs": [
        {
          "output_type": "execute_result",
          "data": {
            "text/plain": [
              "5"
            ]
          },
          "metadata": {},
          "execution_count": 49
        }
      ]
    },
    {
      "cell_type": "code",
      "metadata": {
        "id": "5dvjkxmOTQUQ"
      },
      "source": [
        "torch.manual_seed(100)\n",
        "model = FeedForwardNN(embedding_dim,len(cont_features),1,[100,50],p=0.4)"
      ],
      "execution_count": 50,
      "outputs": []
    },
    {
      "cell_type": "code",
      "metadata": {
        "colab": {
          "base_uri": "https://localhost:8080/"
        },
        "id": "BMq9SmMSTQa0",
        "outputId": "46d3d826-eb73-4e6a-b395-05320b9af8af"
      },
      "source": [
        "model"
      ],
      "execution_count": 51,
      "outputs": [
        {
          "output_type": "execute_result",
          "data": {
            "text/plain": [
              "FeedForwardNN(\n",
              "  (embeds): ModuleList(\n",
              "    (0): Embedding(15, 8)\n",
              "    (1): Embedding(5, 3)\n",
              "    (2): Embedding(2, 1)\n",
              "    (3): Embedding(4, 2)\n",
              "  )\n",
              "  (emb_drop): Dropout(p=0.4, inplace=False)\n",
              "  (bn_cont): BatchNorm1d(5, eps=1e-05, momentum=0.1, affine=True, track_running_stats=True)\n",
              "  (layers): Sequential(\n",
              "    (0): Linear(in_features=19, out_features=100, bias=True)\n",
              "    (1): ReLU(inplace=True)\n",
              "    (2): BatchNorm1d(100, eps=1e-05, momentum=0.1, affine=True, track_running_stats=True)\n",
              "    (3): Dropout(p=0.4, inplace=False)\n",
              "    (4): Linear(in_features=100, out_features=50, bias=True)\n",
              "    (5): ReLU(inplace=True)\n",
              "    (6): BatchNorm1d(50, eps=1e-05, momentum=0.1, affine=True, track_running_stats=True)\n",
              "    (7): Dropout(p=0.4, inplace=False)\n",
              "    (8): Linear(in_features=50, out_features=1, bias=True)\n",
              "  )\n",
              ")"
            ]
          },
          "metadata": {},
          "execution_count": 51
        }
      ]
    },
    {
      "cell_type": "markdown",
      "metadata": {
        "id": "dgPQrvMTZHED"
      },
      "source": [
        "**Define loss and optimizer**"
      ]
    },
    {
      "cell_type": "code",
      "metadata": {
        "id": "Qu75ePUdTQgv"
      },
      "source": [
        "loss_function = nn.MSELoss()\n",
        "optimizer=torch.optim.Adam(model.parameters(),lr=0.01)"
      ],
      "execution_count": 52,
      "outputs": []
    },
    {
      "cell_type": "code",
      "metadata": {
        "colab": {
          "base_uri": "https://localhost:8080/"
        },
        "id": "d3iHhuL8TQnQ",
        "outputId": "2220250a-7042-42c5-a21b-dcf6e847df45"
      },
      "source": [
        "df.shape"
      ],
      "execution_count": 53,
      "outputs": [
        {
          "output_type": "execute_result",
          "data": {
            "text/plain": [
              "(1201, 10)"
            ]
          },
          "metadata": {},
          "execution_count": 53
        }
      ]
    },
    {
      "cell_type": "code",
      "metadata": {
        "colab": {
          "base_uri": "https://localhost:8080/"
        },
        "id": "PmrHs-4cTQup",
        "outputId": "d016c6d7-e510-4b1a-ad76-bc55b7e25d26"
      },
      "source": [
        "cont_values"
      ],
      "execution_count": 54,
      "outputs": [
        {
          "output_type": "execute_result",
          "data": {
            "text/plain": [
              "tensor([[   65.,  8450.,   856.,   854.,    18.],\n",
              "        [   80.,  9600.,  1262.,     0.,    45.],\n",
              "        [   68., 11250.,   920.,   866.,    20.],\n",
              "        ...,\n",
              "        [   66.,  9042.,  1188.,  1152.,    80.],\n",
              "        [   68.,  9717.,  1078.,     0.,    71.],\n",
              "        [   75.,  9937.,  1256.,     0.,    56.]])"
            ]
          },
          "metadata": {},
          "execution_count": 54
        }
      ]
    },
    {
      "cell_type": "code",
      "metadata": {
        "id": "FtvgmXeiTQ0b"
      },
      "source": [
        "batch_size = 1200\n",
        "test_size = int(batch_size*0.15)\n",
        "train_categorical = cat_features[:batch_size-test_size]\n",
        "test_categorical = cat_features[batch_size-test_size:batch_size]\n",
        "train_cont = cont_values[:batch_size-test_size]\n",
        "test_cont = cont_values[batch_size-test_size:batch_size]\n",
        "y_train = y[:batch_size-test_size]\n",
        "y_test = y[batch_size-test_size:batch_size]\n"
      ],
      "execution_count": 55,
      "outputs": []
    },
    {
      "cell_type": "code",
      "metadata": {
        "colab": {
          "base_uri": "https://localhost:8080/"
        },
        "id": "DfBGdjPCTQ8u",
        "outputId": "62377103-ce20-4c5d-a75c-7445ad341b92"
      },
      "source": [
        "len(train_categorical),len(test_categorical),len(train_cont),len(test_cont),len(y_train),len(y_test)"
      ],
      "execution_count": 56,
      "outputs": [
        {
          "output_type": "execute_result",
          "data": {
            "text/plain": [
              "(1020, 180, 1020, 180, 1020, 180)"
            ]
          },
          "metadata": {},
          "execution_count": 56
        }
      ]
    },
    {
      "cell_type": "code",
      "metadata": {
        "colab": {
          "base_uri": "https://localhost:8080/"
        },
        "id": "YwOrpVjUTRDq",
        "outputId": "2fe83eff-b1ee-48e1-b57a-5192701d7c42"
      },
      "source": [
        "epochs=5000\n",
        "final_losses=[]\n",
        "for i in range(epochs):\n",
        "  i = i+1\n",
        "  y_pred = model(train_categorical,train_cont)\n",
        "  loss = torch.sqrt(loss_function(y_pred,y_train))\n",
        "  final_losses.append(loss)\n",
        "  if i%10==1:\n",
        "    print(\"Epoch number : {} and the loss : {}\".format(i,loss.item()))\n",
        "  optimizer.zero_grad()\n",
        "  loss.backward()\n",
        "  optimizer.step()  "
      ],
      "execution_count": 57,
      "outputs": [
        {
          "output_type": "stream",
          "name": "stdout",
          "text": [
            "Epoch number : 1 and the loss : 200496.75\n",
            "Epoch number : 11 and the loss : 200493.46875\n",
            "Epoch number : 21 and the loss : 200489.140625\n",
            "Epoch number : 31 and the loss : 200482.640625\n",
            "Epoch number : 41 and the loss : 200473.25\n",
            "Epoch number : 51 and the loss : 200461.375\n",
            "Epoch number : 61 and the loss : 200446.4375\n",
            "Epoch number : 71 and the loss : 200429.421875\n",
            "Epoch number : 81 and the loss : 200407.953125\n",
            "Epoch number : 91 and the loss : 200383.421875\n",
            "Epoch number : 101 and the loss : 200355.21875\n",
            "Epoch number : 111 and the loss : 200322.0625\n",
            "Epoch number : 121 and the loss : 200291.46875\n",
            "Epoch number : 131 and the loss : 200252.140625\n",
            "Epoch number : 141 and the loss : 200206.578125\n",
            "Epoch number : 151 and the loss : 200161.84375\n",
            "Epoch number : 161 and the loss : 200112.125\n",
            "Epoch number : 171 and the loss : 200058.75\n",
            "Epoch number : 181 and the loss : 200006.25\n",
            "Epoch number : 191 and the loss : 199947.078125\n",
            "Epoch number : 201 and the loss : 199881.296875\n",
            "Epoch number : 211 and the loss : 199815.765625\n",
            "Epoch number : 221 and the loss : 199737.234375\n",
            "Epoch number : 231 and the loss : 199668.625\n",
            "Epoch number : 241 and the loss : 199589.265625\n",
            "Epoch number : 251 and the loss : 199507.3125\n",
            "Epoch number : 261 and the loss : 199409.203125\n",
            "Epoch number : 271 and the loss : 199324.984375\n",
            "Epoch number : 281 and the loss : 199244.65625\n",
            "Epoch number : 291 and the loss : 199139.59375\n",
            "Epoch number : 301 and the loss : 199027.015625\n",
            "Epoch number : 311 and the loss : 198930.421875\n",
            "Epoch number : 321 and the loss : 198846.375\n",
            "Epoch number : 331 and the loss : 198694.0\n",
            "Epoch number : 341 and the loss : 198602.796875\n",
            "Epoch number : 351 and the loss : 198491.140625\n",
            "Epoch number : 361 and the loss : 198388.15625\n",
            "Epoch number : 371 and the loss : 198242.578125\n",
            "Epoch number : 381 and the loss : 198105.578125\n",
            "Epoch number : 391 and the loss : 198016.578125\n",
            "Epoch number : 401 and the loss : 197891.375\n",
            "Epoch number : 411 and the loss : 197730.421875\n",
            "Epoch number : 421 and the loss : 197595.640625\n",
            "Epoch number : 431 and the loss : 197423.515625\n",
            "Epoch number : 441 and the loss : 197289.296875\n",
            "Epoch number : 451 and the loss : 197170.859375\n",
            "Epoch number : 461 and the loss : 196961.0625\n",
            "Epoch number : 471 and the loss : 196881.84375\n",
            "Epoch number : 481 and the loss : 196706.625\n",
            "Epoch number : 491 and the loss : 196510.3125\n",
            "Epoch number : 501 and the loss : 196434.96875\n",
            "Epoch number : 511 and the loss : 196202.4375\n",
            "Epoch number : 521 and the loss : 196045.71875\n",
            "Epoch number : 531 and the loss : 195851.046875\n",
            "Epoch number : 541 and the loss : 195664.28125\n",
            "Epoch number : 551 and the loss : 195460.59375\n",
            "Epoch number : 561 and the loss : 195289.140625\n",
            "Epoch number : 571 and the loss : 195083.1875\n",
            "Epoch number : 581 and the loss : 194842.734375\n",
            "Epoch number : 591 and the loss : 194703.203125\n",
            "Epoch number : 601 and the loss : 194527.96875\n",
            "Epoch number : 611 and the loss : 194275.5625\n",
            "Epoch number : 621 and the loss : 194117.09375\n",
            "Epoch number : 631 and the loss : 193837.625\n",
            "Epoch number : 641 and the loss : 193684.515625\n",
            "Epoch number : 651 and the loss : 193493.5\n",
            "Epoch number : 661 and the loss : 193224.421875\n",
            "Epoch number : 671 and the loss : 193063.3125\n",
            "Epoch number : 681 and the loss : 192774.8125\n",
            "Epoch number : 691 and the loss : 192490.953125\n",
            "Epoch number : 701 and the loss : 192298.546875\n",
            "Epoch number : 711 and the loss : 192209.234375\n",
            "Epoch number : 721 and the loss : 192025.15625\n",
            "Epoch number : 731 and the loss : 191621.171875\n",
            "Epoch number : 741 and the loss : 191435.125\n",
            "Epoch number : 751 and the loss : 191189.03125\n",
            "Epoch number : 761 and the loss : 190980.8125\n",
            "Epoch number : 771 and the loss : 190725.234375\n",
            "Epoch number : 781 and the loss : 190475.578125\n",
            "Epoch number : 791 and the loss : 190282.015625\n",
            "Epoch number : 801 and the loss : 189873.09375\n",
            "Epoch number : 811 and the loss : 189757.640625\n",
            "Epoch number : 821 and the loss : 189711.75\n",
            "Epoch number : 831 and the loss : 189294.078125\n",
            "Epoch number : 841 and the loss : 188940.296875\n",
            "Epoch number : 851 and the loss : 188844.234375\n",
            "Epoch number : 861 and the loss : 188379.265625\n",
            "Epoch number : 871 and the loss : 188172.1875\n",
            "Epoch number : 881 and the loss : 187882.96875\n",
            "Epoch number : 891 and the loss : 187482.671875\n",
            "Epoch number : 901 and the loss : 187464.890625\n",
            "Epoch number : 911 and the loss : 187250.71875\n",
            "Epoch number : 921 and the loss : 186794.734375\n",
            "Epoch number : 931 and the loss : 186384.515625\n",
            "Epoch number : 941 and the loss : 186149.328125\n",
            "Epoch number : 951 and the loss : 185978.796875\n",
            "Epoch number : 961 and the loss : 185525.21875\n",
            "Epoch number : 971 and the loss : 185308.125\n",
            "Epoch number : 981 and the loss : 185077.890625\n",
            "Epoch number : 991 and the loss : 184798.828125\n",
            "Epoch number : 1001 and the loss : 184299.796875\n",
            "Epoch number : 1011 and the loss : 184002.546875\n",
            "Epoch number : 1021 and the loss : 183806.21875\n",
            "Epoch number : 1031 and the loss : 183388.65625\n",
            "Epoch number : 1041 and the loss : 183214.9375\n",
            "Epoch number : 1051 and the loss : 182905.65625\n",
            "Epoch number : 1061 and the loss : 182553.21875\n",
            "Epoch number : 1071 and the loss : 182296.9375\n",
            "Epoch number : 1081 and the loss : 181894.375\n",
            "Epoch number : 1091 and the loss : 181476.5625\n",
            "Epoch number : 1101 and the loss : 181312.03125\n",
            "Epoch number : 1111 and the loss : 180767.921875\n",
            "Epoch number : 1121 and the loss : 180480.515625\n",
            "Epoch number : 1131 and the loss : 180423.828125\n",
            "Epoch number : 1141 and the loss : 179912.921875\n",
            "Epoch number : 1151 and the loss : 179488.109375\n",
            "Epoch number : 1161 and the loss : 179355.875\n",
            "Epoch number : 1171 and the loss : 178936.453125\n",
            "Epoch number : 1181 and the loss : 178589.203125\n",
            "Epoch number : 1191 and the loss : 178127.3125\n",
            "Epoch number : 1201 and the loss : 178111.984375\n",
            "Epoch number : 1211 and the loss : 177458.90625\n",
            "Epoch number : 1221 and the loss : 177491.15625\n",
            "Epoch number : 1231 and the loss : 176563.96875\n",
            "Epoch number : 1241 and the loss : 176324.6875\n",
            "Epoch number : 1251 and the loss : 175556.4375\n",
            "Epoch number : 1261 and the loss : 175537.921875\n",
            "Epoch number : 1271 and the loss : 175248.46875\n",
            "Epoch number : 1281 and the loss : 174915.25\n",
            "Epoch number : 1291 and the loss : 174480.65625\n",
            "Epoch number : 1301 and the loss : 174217.296875\n",
            "Epoch number : 1311 and the loss : 173687.546875\n",
            "Epoch number : 1321 and the loss : 173128.8125\n",
            "Epoch number : 1331 and the loss : 173418.296875\n",
            "Epoch number : 1341 and the loss : 172600.953125\n",
            "Epoch number : 1351 and the loss : 172265.234375\n",
            "Epoch number : 1361 and the loss : 172013.4375\n",
            "Epoch number : 1371 and the loss : 171844.0\n",
            "Epoch number : 1381 and the loss : 171313.015625\n",
            "Epoch number : 1391 and the loss : 170391.671875\n",
            "Epoch number : 1401 and the loss : 170513.828125\n",
            "Epoch number : 1411 and the loss : 169703.8125\n",
            "Epoch number : 1421 and the loss : 169890.515625\n",
            "Epoch number : 1431 and the loss : 169482.578125\n",
            "Epoch number : 1441 and the loss : 168701.90625\n",
            "Epoch number : 1451 and the loss : 168573.453125\n",
            "Epoch number : 1461 and the loss : 167960.25\n",
            "Epoch number : 1471 and the loss : 167731.1875\n",
            "Epoch number : 1481 and the loss : 167334.84375\n",
            "Epoch number : 1491 and the loss : 166585.96875\n",
            "Epoch number : 1501 and the loss : 166336.65625\n",
            "Epoch number : 1511 and the loss : 165551.84375\n",
            "Epoch number : 1521 and the loss : 165837.875\n",
            "Epoch number : 1531 and the loss : 165289.421875\n",
            "Epoch number : 1541 and the loss : 164590.28125\n",
            "Epoch number : 1551 and the loss : 164500.3125\n",
            "Epoch number : 1561 and the loss : 163727.1875\n",
            "Epoch number : 1571 and the loss : 163466.34375\n",
            "Epoch number : 1581 and the loss : 163090.359375\n",
            "Epoch number : 1591 and the loss : 162961.359375\n",
            "Epoch number : 1601 and the loss : 162415.109375\n",
            "Epoch number : 1611 and the loss : 161654.25\n",
            "Epoch number : 1621 and the loss : 160772.453125\n",
            "Epoch number : 1631 and the loss : 160855.46875\n",
            "Epoch number : 1641 and the loss : 160715.5\n",
            "Epoch number : 1651 and the loss : 160127.21875\n",
            "Epoch number : 1661 and the loss : 160121.34375\n",
            "Epoch number : 1671 and the loss : 159095.15625\n",
            "Epoch number : 1681 and the loss : 158389.5\n",
            "Epoch number : 1691 and the loss : 158303.75\n",
            "Epoch number : 1701 and the loss : 157617.15625\n",
            "Epoch number : 1711 and the loss : 157339.140625\n",
            "Epoch number : 1721 and the loss : 157169.640625\n",
            "Epoch number : 1731 and the loss : 156724.09375\n",
            "Epoch number : 1741 and the loss : 156296.296875\n",
            "Epoch number : 1751 and the loss : 156178.734375\n",
            "Epoch number : 1761 and the loss : 154654.90625\n",
            "Epoch number : 1771 and the loss : 154501.234375\n",
            "Epoch number : 1781 and the loss : 154071.359375\n",
            "Epoch number : 1791 and the loss : 153756.546875\n",
            "Epoch number : 1801 and the loss : 153100.875\n",
            "Epoch number : 1811 and the loss : 152837.875\n",
            "Epoch number : 1821 and the loss : 152285.140625\n",
            "Epoch number : 1831 and the loss : 152471.65625\n",
            "Epoch number : 1841 and the loss : 151591.703125\n",
            "Epoch number : 1851 and the loss : 150598.140625\n",
            "Epoch number : 1861 and the loss : 150865.34375\n",
            "Epoch number : 1871 and the loss : 150139.40625\n",
            "Epoch number : 1881 and the loss : 149268.1875\n",
            "Epoch number : 1891 and the loss : 148370.828125\n",
            "Epoch number : 1901 and the loss : 148630.21875\n",
            "Epoch number : 1911 and the loss : 148930.03125\n",
            "Epoch number : 1921 and the loss : 147823.8125\n",
            "Epoch number : 1931 and the loss : 147369.984375\n",
            "Epoch number : 1941 and the loss : 146669.59375\n",
            "Epoch number : 1951 and the loss : 146533.28125\n",
            "Epoch number : 1961 and the loss : 145999.828125\n",
            "Epoch number : 1971 and the loss : 145499.78125\n",
            "Epoch number : 1981 and the loss : 145768.421875\n",
            "Epoch number : 1991 and the loss : 144530.046875\n",
            "Epoch number : 2001 and the loss : 144161.125\n",
            "Epoch number : 2011 and the loss : 142960.765625\n",
            "Epoch number : 2021 and the loss : 142969.75\n",
            "Epoch number : 2031 and the loss : 143439.328125\n",
            "Epoch number : 2041 and the loss : 142095.46875\n",
            "Epoch number : 2051 and the loss : 141047.625\n",
            "Epoch number : 2061 and the loss : 140930.9375\n",
            "Epoch number : 2071 and the loss : 140948.078125\n",
            "Epoch number : 2081 and the loss : 139787.890625\n",
            "Epoch number : 2091 and the loss : 139696.140625\n",
            "Epoch number : 2101 and the loss : 139446.484375\n",
            "Epoch number : 2111 and the loss : 138720.0625\n",
            "Epoch number : 2121 and the loss : 137791.671875\n",
            "Epoch number : 2131 and the loss : 137865.375\n",
            "Epoch number : 2141 and the loss : 137238.96875\n",
            "Epoch number : 2151 and the loss : 136697.84375\n",
            "Epoch number : 2161 and the loss : 136453.640625\n",
            "Epoch number : 2171 and the loss : 136505.953125\n",
            "Epoch number : 2181 and the loss : 135892.109375\n",
            "Epoch number : 2191 and the loss : 134845.734375\n",
            "Epoch number : 2201 and the loss : 134219.234375\n",
            "Epoch number : 2211 and the loss : 133654.734375\n",
            "Epoch number : 2221 and the loss : 132781.671875\n",
            "Epoch number : 2231 and the loss : 132578.078125\n",
            "Epoch number : 2241 and the loss : 131524.296875\n",
            "Epoch number : 2251 and the loss : 131710.984375\n",
            "Epoch number : 2261 and the loss : 130229.03125\n",
            "Epoch number : 2271 and the loss : 130416.125\n",
            "Epoch number : 2281 and the loss : 130221.9609375\n",
            "Epoch number : 2291 and the loss : 129497.5078125\n",
            "Epoch number : 2301 and the loss : 128877.5\n",
            "Epoch number : 2311 and the loss : 128862.2421875\n",
            "Epoch number : 2321 and the loss : 128258.3125\n",
            "Epoch number : 2331 and the loss : 128564.421875\n",
            "Epoch number : 2341 and the loss : 127575.0078125\n",
            "Epoch number : 2351 and the loss : 126381.859375\n",
            "Epoch number : 2361 and the loss : 126174.7265625\n",
            "Epoch number : 2371 and the loss : 125640.71875\n",
            "Epoch number : 2381 and the loss : 124628.53125\n",
            "Epoch number : 2391 and the loss : 124849.859375\n",
            "Epoch number : 2401 and the loss : 124295.546875\n",
            "Epoch number : 2411 and the loss : 123311.234375\n",
            "Epoch number : 2421 and the loss : 123145.546875\n",
            "Epoch number : 2431 and the loss : 122520.8984375\n",
            "Epoch number : 2441 and the loss : 122494.9140625\n",
            "Epoch number : 2451 and the loss : 121168.3203125\n",
            "Epoch number : 2461 and the loss : 121324.3984375\n",
            "Epoch number : 2471 and the loss : 120882.96875\n",
            "Epoch number : 2481 and the loss : 120443.6328125\n",
            "Epoch number : 2491 and the loss : 120482.25\n",
            "Epoch number : 2501 and the loss : 119720.6640625\n",
            "Epoch number : 2511 and the loss : 118693.9296875\n",
            "Epoch number : 2521 and the loss : 117599.90625\n",
            "Epoch number : 2531 and the loss : 118104.8125\n",
            "Epoch number : 2541 and the loss : 117384.703125\n",
            "Epoch number : 2551 and the loss : 116943.65625\n",
            "Epoch number : 2561 and the loss : 116481.125\n",
            "Epoch number : 2571 and the loss : 115662.9765625\n",
            "Epoch number : 2581 and the loss : 115899.0859375\n",
            "Epoch number : 2591 and the loss : 115595.8125\n",
            "Epoch number : 2601 and the loss : 114412.4140625\n",
            "Epoch number : 2611 and the loss : 114233.7578125\n",
            "Epoch number : 2621 and the loss : 114579.875\n",
            "Epoch number : 2631 and the loss : 112414.109375\n",
            "Epoch number : 2641 and the loss : 112268.1171875\n",
            "Epoch number : 2651 and the loss : 112339.0859375\n",
            "Epoch number : 2661 and the loss : 111387.7109375\n",
            "Epoch number : 2671 and the loss : 110873.046875\n",
            "Epoch number : 2681 and the loss : 110198.8125\n",
            "Epoch number : 2691 and the loss : 109522.6953125\n",
            "Epoch number : 2701 and the loss : 109533.6171875\n",
            "Epoch number : 2711 and the loss : 109095.859375\n",
            "Epoch number : 2721 and the loss : 109016.4921875\n",
            "Epoch number : 2731 and the loss : 108390.6640625\n",
            "Epoch number : 2741 and the loss : 107111.1953125\n",
            "Epoch number : 2751 and the loss : 105915.609375\n",
            "Epoch number : 2761 and the loss : 106001.9765625\n",
            "Epoch number : 2771 and the loss : 106673.6015625\n",
            "Epoch number : 2781 and the loss : 105113.125\n",
            "Epoch number : 2791 and the loss : 104628.4296875\n",
            "Epoch number : 2801 and the loss : 103501.6875\n",
            "Epoch number : 2811 and the loss : 104014.78125\n",
            "Epoch number : 2821 and the loss : 102827.9140625\n",
            "Epoch number : 2831 and the loss : 102652.4453125\n",
            "Epoch number : 2841 and the loss : 102211.6953125\n",
            "Epoch number : 2851 and the loss : 101351.2109375\n",
            "Epoch number : 2861 and the loss : 101707.984375\n",
            "Epoch number : 2871 and the loss : 100746.234375\n",
            "Epoch number : 2881 and the loss : 100817.03125\n",
            "Epoch number : 2891 and the loss : 100457.8984375\n",
            "Epoch number : 2901 and the loss : 98623.8671875\n",
            "Epoch number : 2911 and the loss : 98145.53125\n",
            "Epoch number : 2921 and the loss : 98162.765625\n",
            "Epoch number : 2931 and the loss : 99155.203125\n",
            "Epoch number : 2941 and the loss : 96852.9453125\n",
            "Epoch number : 2951 and the loss : 97385.1875\n",
            "Epoch number : 2961 and the loss : 96391.2265625\n",
            "Epoch number : 2971 and the loss : 96311.3359375\n",
            "Epoch number : 2981 and the loss : 95277.7109375\n",
            "Epoch number : 2991 and the loss : 94309.453125\n",
            "Epoch number : 3001 and the loss : 93758.6875\n",
            "Epoch number : 3011 and the loss : 93906.65625\n",
            "Epoch number : 3021 and the loss : 93030.1015625\n",
            "Epoch number : 3031 and the loss : 92465.828125\n",
            "Epoch number : 3041 and the loss : 92729.4921875\n",
            "Epoch number : 3051 and the loss : 91475.5625\n",
            "Epoch number : 3061 and the loss : 91775.171875\n",
            "Epoch number : 3071 and the loss : 91015.8203125\n",
            "Epoch number : 3081 and the loss : 90906.15625\n",
            "Epoch number : 3091 and the loss : 89552.9921875\n",
            "Epoch number : 3101 and the loss : 89229.0546875\n",
            "Epoch number : 3111 and the loss : 89196.765625\n",
            "Epoch number : 3121 and the loss : 89380.65625\n",
            "Epoch number : 3131 and the loss : 87880.9296875\n",
            "Epoch number : 3141 and the loss : 87755.6484375\n",
            "Epoch number : 3151 and the loss : 87371.671875\n",
            "Epoch number : 3161 and the loss : 86266.875\n",
            "Epoch number : 3171 and the loss : 86904.6171875\n",
            "Epoch number : 3181 and the loss : 86069.9609375\n",
            "Epoch number : 3191 and the loss : 84985.234375\n",
            "Epoch number : 3201 and the loss : 84969.3828125\n",
            "Epoch number : 3211 and the loss : 84116.484375\n",
            "Epoch number : 3221 and the loss : 82792.0546875\n",
            "Epoch number : 3231 and the loss : 84028.28125\n",
            "Epoch number : 3241 and the loss : 82337.9453125\n",
            "Epoch number : 3251 and the loss : 81592.6875\n",
            "Epoch number : 3261 and the loss : 81312.921875\n",
            "Epoch number : 3271 and the loss : 82062.6796875\n",
            "Epoch number : 3281 and the loss : 81014.625\n",
            "Epoch number : 3291 and the loss : 80863.25\n",
            "Epoch number : 3301 and the loss : 80008.7578125\n",
            "Epoch number : 3311 and the loss : 79251.78125\n",
            "Epoch number : 3321 and the loss : 81220.0390625\n",
            "Epoch number : 3331 and the loss : 78662.484375\n",
            "Epoch number : 3341 and the loss : 78093.7734375\n",
            "Epoch number : 3351 and the loss : 76703.6015625\n",
            "Epoch number : 3361 and the loss : 77198.9921875\n",
            "Epoch number : 3371 and the loss : 76543.3359375\n",
            "Epoch number : 3381 and the loss : 78048.96875\n",
            "Epoch number : 3391 and the loss : 74585.34375\n",
            "Epoch number : 3401 and the loss : 74367.9453125\n",
            "Epoch number : 3411 and the loss : 74454.671875\n",
            "Epoch number : 3421 and the loss : 73867.6484375\n",
            "Epoch number : 3431 and the loss : 73624.046875\n",
            "Epoch number : 3441 and the loss : 72387.515625\n",
            "Epoch number : 3451 and the loss : 72441.796875\n",
            "Epoch number : 3461 and the loss : 72436.6640625\n",
            "Epoch number : 3471 and the loss : 70834.1015625\n",
            "Epoch number : 3481 and the loss : 73171.0390625\n",
            "Epoch number : 3491 and the loss : 70790.390625\n",
            "Epoch number : 3501 and the loss : 68869.84375\n",
            "Epoch number : 3511 and the loss : 68947.109375\n",
            "Epoch number : 3521 and the loss : 68936.8828125\n",
            "Epoch number : 3531 and the loss : 68374.4375\n",
            "Epoch number : 3541 and the loss : 68276.25\n",
            "Epoch number : 3551 and the loss : 68220.15625\n",
            "Epoch number : 3561 and the loss : 66426.5859375\n",
            "Epoch number : 3571 and the loss : 66003.2890625\n",
            "Epoch number : 3581 and the loss : 66054.859375\n",
            "Epoch number : 3591 and the loss : 66781.5625\n",
            "Epoch number : 3601 and the loss : 64742.7421875\n",
            "Epoch number : 3611 and the loss : 67637.5078125\n",
            "Epoch number : 3621 and the loss : 65389.2890625\n",
            "Epoch number : 3631 and the loss : 62660.1640625\n",
            "Epoch number : 3641 and the loss : 66216.96875\n",
            "Epoch number : 3651 and the loss : 61927.20703125\n",
            "Epoch number : 3661 and the loss : 63939.04296875\n",
            "Epoch number : 3671 and the loss : 61629.10546875\n",
            "Epoch number : 3681 and the loss : 61349.171875\n",
            "Epoch number : 3691 and the loss : 61491.42578125\n",
            "Epoch number : 3701 and the loss : 60271.984375\n",
            "Epoch number : 3711 and the loss : 61580.46875\n",
            "Epoch number : 3721 and the loss : 60230.42578125\n",
            "Epoch number : 3731 and the loss : 57525.25390625\n",
            "Epoch number : 3741 and the loss : 57970.8125\n",
            "Epoch number : 3751 and the loss : 58989.19140625\n",
            "Epoch number : 3761 and the loss : 58696.4453125\n",
            "Epoch number : 3771 and the loss : 57466.21875\n",
            "Epoch number : 3781 and the loss : 56156.4609375\n",
            "Epoch number : 3791 and the loss : 56415.9296875\n",
            "Epoch number : 3801 and the loss : 56349.3359375\n",
            "Epoch number : 3811 and the loss : 55159.015625\n",
            "Epoch number : 3821 and the loss : 56763.37890625\n",
            "Epoch number : 3831 and the loss : 54128.13671875\n",
            "Epoch number : 3841 and the loss : 54897.55859375\n",
            "Epoch number : 3851 and the loss : 54742.12890625\n",
            "Epoch number : 3861 and the loss : 54376.7421875\n",
            "Epoch number : 3871 and the loss : 51676.1953125\n",
            "Epoch number : 3881 and the loss : 52212.26171875\n",
            "Epoch number : 3891 and the loss : 50388.94140625\n",
            "Epoch number : 3901 and the loss : 54588.328125\n",
            "Epoch number : 3911 and the loss : 52518.83984375\n",
            "Epoch number : 3921 and the loss : 50713.57421875\n",
            "Epoch number : 3931 and the loss : 50819.1875\n",
            "Epoch number : 3941 and the loss : 50185.27734375\n",
            "Epoch number : 3951 and the loss : 49874.4375\n",
            "Epoch number : 3961 and the loss : 50464.69140625\n",
            "Epoch number : 3971 and the loss : 48968.83203125\n",
            "Epoch number : 3981 and the loss : 48955.5234375\n",
            "Epoch number : 3991 and the loss : 49231.7265625\n",
            "Epoch number : 4001 and the loss : 48693.83984375\n",
            "Epoch number : 4011 and the loss : 45974.08984375\n",
            "Epoch number : 4021 and the loss : 49067.8203125\n",
            "Epoch number : 4031 and the loss : 45090.453125\n",
            "Epoch number : 4041 and the loss : 47433.46875\n",
            "Epoch number : 4051 and the loss : 47259.21484375\n",
            "Epoch number : 4061 and the loss : 44963.80859375\n",
            "Epoch number : 4071 and the loss : 46345.51171875\n",
            "Epoch number : 4081 and the loss : 44443.8671875\n",
            "Epoch number : 4091 and the loss : 45723.2578125\n",
            "Epoch number : 4101 and the loss : 44707.2265625\n",
            "Epoch number : 4111 and the loss : 44674.2421875\n",
            "Epoch number : 4121 and the loss : 44060.765625\n",
            "Epoch number : 4131 and the loss : 43926.984375\n",
            "Epoch number : 4141 and the loss : 44126.77734375\n",
            "Epoch number : 4151 and the loss : 43600.05859375\n",
            "Epoch number : 4161 and the loss : 42397.22265625\n",
            "Epoch number : 4171 and the loss : 41666.3515625\n",
            "Epoch number : 4181 and the loss : 42059.69140625\n",
            "Epoch number : 4191 and the loss : 42959.97265625\n",
            "Epoch number : 4201 and the loss : 42332.01953125\n",
            "Epoch number : 4211 and the loss : 41289.375\n",
            "Epoch number : 4221 and the loss : 40757.80859375\n",
            "Epoch number : 4231 and the loss : 41203.37890625\n",
            "Epoch number : 4241 and the loss : 40507.1640625\n",
            "Epoch number : 4251 and the loss : 39834.3515625\n",
            "Epoch number : 4261 and the loss : 41170.1171875\n",
            "Epoch number : 4271 and the loss : 40631.56640625\n",
            "Epoch number : 4281 and the loss : 43002.640625\n",
            "Epoch number : 4291 and the loss : 38441.67578125\n",
            "Epoch number : 4301 and the loss : 39469.2109375\n",
            "Epoch number : 4311 and the loss : 39015.15625\n",
            "Epoch number : 4321 and the loss : 40103.49609375\n",
            "Epoch number : 4331 and the loss : 39220.08203125\n",
            "Epoch number : 4341 and the loss : 38881.328125\n",
            "Epoch number : 4351 and the loss : 41781.1875\n",
            "Epoch number : 4361 and the loss : 39612.1484375\n",
            "Epoch number : 4371 and the loss : 38204.1640625\n",
            "Epoch number : 4381 and the loss : 38049.03125\n",
            "Epoch number : 4391 and the loss : 36108.71875\n",
            "Epoch number : 4401 and the loss : 36684.35546875\n",
            "Epoch number : 4411 and the loss : 37726.6171875\n",
            "Epoch number : 4421 and the loss : 39370.3671875\n",
            "Epoch number : 4431 and the loss : 38127.1953125\n",
            "Epoch number : 4441 and the loss : 38242.25\n",
            "Epoch number : 4451 and the loss : 38215.16015625\n",
            "Epoch number : 4461 and the loss : 37620.94921875\n",
            "Epoch number : 4471 and the loss : 38101.5703125\n",
            "Epoch number : 4481 and the loss : 37402.33984375\n",
            "Epoch number : 4491 and the loss : 36647.7890625\n",
            "Epoch number : 4501 and the loss : 37483.203125\n",
            "Epoch number : 4511 and the loss : 37310.7734375\n",
            "Epoch number : 4521 and the loss : 36677.94921875\n",
            "Epoch number : 4531 and the loss : 38476.29296875\n",
            "Epoch number : 4541 and the loss : 35433.1796875\n",
            "Epoch number : 4551 and the loss : 36082.2265625\n",
            "Epoch number : 4561 and the loss : 36270.49609375\n",
            "Epoch number : 4571 and the loss : 38299.98828125\n",
            "Epoch number : 4581 and the loss : 35266.0\n",
            "Epoch number : 4591 and the loss : 35079.5546875\n",
            "Epoch number : 4601 and the loss : 36843.1484375\n",
            "Epoch number : 4611 and the loss : 36100.0234375\n",
            "Epoch number : 4621 and the loss : 35349.12890625\n",
            "Epoch number : 4631 and the loss : 36670.86328125\n",
            "Epoch number : 4641 and the loss : 35459.8203125\n",
            "Epoch number : 4651 and the loss : 35904.953125\n",
            "Epoch number : 4661 and the loss : 34568.8828125\n",
            "Epoch number : 4671 and the loss : 36811.52734375\n",
            "Epoch number : 4681 and the loss : 35573.05078125\n",
            "Epoch number : 4691 and the loss : 39636.58203125\n",
            "Epoch number : 4701 and the loss : 35005.0390625\n",
            "Epoch number : 4711 and the loss : 34680.41796875\n",
            "Epoch number : 4721 and the loss : 36023.2109375\n",
            "Epoch number : 4731 and the loss : 34912.09765625\n",
            "Epoch number : 4741 and the loss : 34518.59765625\n",
            "Epoch number : 4751 and the loss : 35882.4453125\n",
            "Epoch number : 4761 and the loss : 35155.50390625\n",
            "Epoch number : 4771 and the loss : 36043.765625\n",
            "Epoch number : 4781 and the loss : 33683.1640625\n",
            "Epoch number : 4791 and the loss : 35598.87109375\n",
            "Epoch number : 4801 and the loss : 36217.71484375\n",
            "Epoch number : 4811 and the loss : 34671.953125\n",
            "Epoch number : 4821 and the loss : 35093.75\n",
            "Epoch number : 4831 and the loss : 35144.66796875\n",
            "Epoch number : 4841 and the loss : 35343.16796875\n",
            "Epoch number : 4851 and the loss : 37025.69140625\n",
            "Epoch number : 4861 and the loss : 36195.5546875\n",
            "Epoch number : 4871 and the loss : 35158.2265625\n",
            "Epoch number : 4881 and the loss : 36423.703125\n",
            "Epoch number : 4891 and the loss : 35160.1328125\n",
            "Epoch number : 4901 and the loss : 36219.03125\n",
            "Epoch number : 4911 and the loss : 33641.27734375\n",
            "Epoch number : 4921 and the loss : 34451.3671875\n",
            "Epoch number : 4931 and the loss : 36622.99609375\n",
            "Epoch number : 4941 and the loss : 35894.31640625\n",
            "Epoch number : 4951 and the loss : 33484.55859375\n",
            "Epoch number : 4961 and the loss : 34673.6875\n",
            "Epoch number : 4971 and the loss : 35495.57421875\n",
            "Epoch number : 4981 and the loss : 34465.09375\n",
            "Epoch number : 4991 and the loss : 34336.98046875\n"
          ]
        }
      ]
    },
    {
      "cell_type": "code",
      "metadata": {
        "colab": {
          "base_uri": "https://localhost:8080/",
          "height": 296
        },
        "id": "5OSJBHc-lVnO",
        "outputId": "78d26e22-4e8c-4266-df61-310ad5d1bda5"
      },
      "source": [
        "import matplotlib.pyplot as plt\n",
        "%matplotlib inline\n",
        "plt.plot(range(epochs),final_losses)\n",
        "plt.ylabel('RMSE Loss')\n",
        "plt.xlabel('epoch')"
      ],
      "execution_count": 58,
      "outputs": [
        {
          "output_type": "execute_result",
          "data": {
            "text/plain": [
              "Text(0.5, 0, 'epoch')"
            ]
          },
          "metadata": {},
          "execution_count": 58
        },
        {
          "output_type": "display_data",
          "data": {
            "image/png": "[encoded data removed]",
            "text/plain": [
              "<Figure size 432x288 with 1 Axes>"
            ]
          },
          "metadata": {
            "needs_background": "light"
          }
        }
      ]
    },
    {
      "cell_type": "code",
      "metadata": {
        "colab": {
          "base_uri": "https://localhost:8080/"
        },
        "id": "F3EsVA5NlzV9",
        "outputId": "b01b7820-a4b4-441c-e9a2-03cd4cd19492"
      },
      "source": [
        "###Validate the test data\n",
        "y_pred = \"\"\n",
        "with torch.no_grad():\n",
        "  y_pred=model(test_categorical,test_cont)\n",
        "  loss= torch.sqrt(loss_function(y_pred,y_test))\n",
        "print('RMSE: {}'.format(loss))  "
      ],
      "execution_count": 61,
      "outputs": [
        {
          "output_type": "stream",
          "name": "stdout",
          "text": [
            "RMSE: 42128.36328125\n"
          ]
        }
      ]
    },
    {
      "cell_type": "code",
      "metadata": {
        "id": "rn2FXo7hl0b5"
      },
      "source": [
        "data_verify = pd.DataFrame(y_test.tolist(),columns=[\"Test\"])"
      ],
      "execution_count": 62,
      "outputs": []
    },
    {
      "cell_type": "code",
      "metadata": {
        "id": "qUNIZss1l0h4"
      },
      "source": [
        "data_predicted = pd.DataFrame(y_pred.tolist(),columns=[\"Prediction\"])"
      ],
      "execution_count": 63,
      "outputs": []
    },
    {
      "cell_type": "code",
      "metadata": {
        "colab": {
          "base_uri": "https://localhost:8080/",
          "height": 1000
        },
        "id": "qFiDeBElmu8F",
        "outputId": "68d961c7-d18a-4f56-cfdf-cea2eb4dbb82"
      },
      "source": [
        "data_predicted"
      ],
      "execution_count": 64,
      "outputs": [
        {
          "output_type": "execute_result",
          "data": {
            "text/html": [
              "<div>\n",
              "<style scoped>\n",
              "    .dataframe tbody tr th:only-of-type {\n",
              "        vertical-align: middle;\n",
              "    }\n",
              "\n",
              "    .dataframe tbody tr th {\n",
              "        vertical-align: top;\n",
              "    }\n",
              "\n",
              "    .dataframe thead th {\n",
              "        text-align: right;\n",
              "    }\n",
              "</style>\n",
              "<table border=\"1\" class=\"dataframe\">\n",
              "  <thead>\n",
              "    <tr style=\"text-align: right;\">\n",
              "      <th></th>\n",
              "      <th>Prediction</th>\n",
              "    </tr>\n",
              "  </thead>\n",
              "  <tbody>\n",
              "    <tr>\n",
              "      <th>0</th>\n",
              "      <td>100360.554688</td>\n",
              "    </tr>\n",
              "    <tr>\n",
              "      <th>1</th>\n",
              "      <td>198613.906250</td>\n",
              "    </tr>\n",
              "    <tr>\n",
              "      <th>2</th>\n",
              "      <td>125908.046875</td>\n",
              "    </tr>\n",
              "    <tr>\n",
              "      <th>3</th>\n",
              "      <td>202358.281250</td>\n",
              "    </tr>\n",
              "    <tr>\n",
              "      <th>4</th>\n",
              "      <td>221493.359375</td>\n",
              "    </tr>\n",
              "    <tr>\n",
              "      <th>5</th>\n",
              "      <td>202849.312500</td>\n",
              "    </tr>\n",
              "    <tr>\n",
              "      <th>6</th>\n",
              "      <td>151999.625000</td>\n",
              "    </tr>\n",
              "    <tr>\n",
              "      <th>7</th>\n",
              "      <td>289870.437500</td>\n",
              "    </tr>\n",
              "    <tr>\n",
              "      <th>8</th>\n",
              "      <td>160965.890625</td>\n",
              "    </tr>\n",
              "    <tr>\n",
              "      <th>9</th>\n",
              "      <td>396116.781250</td>\n",
              "    </tr>\n",
              "    <tr>\n",
              "      <th>10</th>\n",
              "      <td>215281.250000</td>\n",
              "    </tr>\n",
              "    <tr>\n",
              "      <th>11</th>\n",
              "      <td>203977.500000</td>\n",
              "    </tr>\n",
              "    <tr>\n",
              "      <th>12</th>\n",
              "      <td>193157.625000</td>\n",
              "    </tr>\n",
              "    <tr>\n",
              "      <th>13</th>\n",
              "      <td>107015.914062</td>\n",
              "    </tr>\n",
              "    <tr>\n",
              "      <th>14</th>\n",
              "      <td>188708.000000</td>\n",
              "    </tr>\n",
              "    <tr>\n",
              "      <th>15</th>\n",
              "      <td>115341.523438</td>\n",
              "    </tr>\n",
              "    <tr>\n",
              "      <th>16</th>\n",
              "      <td>250569.671875</td>\n",
              "    </tr>\n",
              "    <tr>\n",
              "      <th>17</th>\n",
              "      <td>116953.906250</td>\n",
              "    </tr>\n",
              "    <tr>\n",
              "      <th>18</th>\n",
              "      <td>324087.968750</td>\n",
              "    </tr>\n",
              "    <tr>\n",
              "      <th>19</th>\n",
              "      <td>78356.195312</td>\n",
              "    </tr>\n",
              "    <tr>\n",
              "      <th>20</th>\n",
              "      <td>183109.578125</td>\n",
              "    </tr>\n",
              "    <tr>\n",
              "      <th>21</th>\n",
              "      <td>97400.695312</td>\n",
              "    </tr>\n",
              "    <tr>\n",
              "      <th>22</th>\n",
              "      <td>96901.140625</td>\n",
              "    </tr>\n",
              "    <tr>\n",
              "      <th>23</th>\n",
              "      <td>165070.843750</td>\n",
              "    </tr>\n",
              "    <tr>\n",
              "      <th>24</th>\n",
              "      <td>203274.468750</td>\n",
              "    </tr>\n",
              "    <tr>\n",
              "      <th>25</th>\n",
              "      <td>198863.390625</td>\n",
              "    </tr>\n",
              "    <tr>\n",
              "      <th>26</th>\n",
              "      <td>132960.093750</td>\n",
              "    </tr>\n",
              "    <tr>\n",
              "      <th>27</th>\n",
              "      <td>389884.062500</td>\n",
              "    </tr>\n",
              "    <tr>\n",
              "      <th>28</th>\n",
              "      <td>144948.546875</td>\n",
              "    </tr>\n",
              "    <tr>\n",
              "      <th>29</th>\n",
              "      <td>152142.859375</td>\n",
              "    </tr>\n",
              "    <tr>\n",
              "      <th>30</th>\n",
              "      <td>70848.593750</td>\n",
              "    </tr>\n",
              "    <tr>\n",
              "      <th>31</th>\n",
              "      <td>141800.250000</td>\n",
              "    </tr>\n",
              "    <tr>\n",
              "      <th>32</th>\n",
              "      <td>270312.218750</td>\n",
              "    </tr>\n",
              "    <tr>\n",
              "      <th>33</th>\n",
              "      <td>86341.375000</td>\n",
              "    </tr>\n",
              "    <tr>\n",
              "      <th>34</th>\n",
              "      <td>224023.812500</td>\n",
              "    </tr>\n",
              "    <tr>\n",
              "      <th>35</th>\n",
              "      <td>193566.640625</td>\n",
              "    </tr>\n",
              "    <tr>\n",
              "      <th>36</th>\n",
              "      <td>117480.609375</td>\n",
              "    </tr>\n",
              "    <tr>\n",
              "      <th>37</th>\n",
              "      <td>138757.890625</td>\n",
              "    </tr>\n",
              "    <tr>\n",
              "      <th>38</th>\n",
              "      <td>163736.062500</td>\n",
              "    </tr>\n",
              "    <tr>\n",
              "      <th>39</th>\n",
              "      <td>97379.390625</td>\n",
              "    </tr>\n",
              "    <tr>\n",
              "      <th>40</th>\n",
              "      <td>279502.093750</td>\n",
              "    </tr>\n",
              "    <tr>\n",
              "      <th>41</th>\n",
              "      <td>314560.593750</td>\n",
              "    </tr>\n",
              "    <tr>\n",
              "      <th>42</th>\n",
              "      <td>74762.515625</td>\n",
              "    </tr>\n",
              "    <tr>\n",
              "      <th>43</th>\n",
              "      <td>169625.546875</td>\n",
              "    </tr>\n",
              "    <tr>\n",
              "      <th>44</th>\n",
              "      <td>198287.312500</td>\n",
              "    </tr>\n",
              "    <tr>\n",
              "      <th>45</th>\n",
              "      <td>106642.226562</td>\n",
              "    </tr>\n",
              "    <tr>\n",
              "      <th>46</th>\n",
              "      <td>100786.250000</td>\n",
              "    </tr>\n",
              "    <tr>\n",
              "      <th>47</th>\n",
              "      <td>140262.234375</td>\n",
              "    </tr>\n",
              "    <tr>\n",
              "      <th>48</th>\n",
              "      <td>114736.984375</td>\n",
              "    </tr>\n",
              "    <tr>\n",
              "      <th>49</th>\n",
              "      <td>405122.593750</td>\n",
              "    </tr>\n",
              "    <tr>\n",
              "      <th>50</th>\n",
              "      <td>130244.460938</td>\n",
              "    </tr>\n",
              "    <tr>\n",
              "      <th>51</th>\n",
              "      <td>345756.718750</td>\n",
              "    </tr>\n",
              "    <tr>\n",
              "      <th>52</th>\n",
              "      <td>227059.187500</td>\n",
              "    </tr>\n",
              "    <tr>\n",
              "      <th>53</th>\n",
              "      <td>158067.437500</td>\n",
              "    </tr>\n",
              "    <tr>\n",
              "      <th>54</th>\n",
              "      <td>273677.156250</td>\n",
              "    </tr>\n",
              "    <tr>\n",
              "      <th>55</th>\n",
              "      <td>196532.500000</td>\n",
              "    </tr>\n",
              "    <tr>\n",
              "      <th>56</th>\n",
              "      <td>135711.937500</td>\n",
              "    </tr>\n",
              "    <tr>\n",
              "      <th>57</th>\n",
              "      <td>118954.812500</td>\n",
              "    </tr>\n",
              "    <tr>\n",
              "      <th>58</th>\n",
              "      <td>310363.281250</td>\n",
              "    </tr>\n",
              "    <tr>\n",
              "      <th>59</th>\n",
              "      <td>179077.968750</td>\n",
              "    </tr>\n",
              "    <tr>\n",
              "      <th>60</th>\n",
              "      <td>334718.875000</td>\n",
              "    </tr>\n",
              "    <tr>\n",
              "      <th>61</th>\n",
              "      <td>102753.406250</td>\n",
              "    </tr>\n",
              "    <tr>\n",
              "      <th>62</th>\n",
              "      <td>220175.546875</td>\n",
              "    </tr>\n",
              "    <tr>\n",
              "      <th>63</th>\n",
              "      <td>223256.437500</td>\n",
              "    </tr>\n",
              "    <tr>\n",
              "      <th>64</th>\n",
              "      <td>177462.750000</td>\n",
              "    </tr>\n",
              "    <tr>\n",
              "      <th>65</th>\n",
              "      <td>134470.937500</td>\n",
              "    </tr>\n",
              "    <tr>\n",
              "      <th>66</th>\n",
              "      <td>166770.406250</td>\n",
              "    </tr>\n",
              "    <tr>\n",
              "      <th>67</th>\n",
              "      <td>262345.531250</td>\n",
              "    </tr>\n",
              "    <tr>\n",
              "      <th>68</th>\n",
              "      <td>58897.042969</td>\n",
              "    </tr>\n",
              "    <tr>\n",
              "      <th>69</th>\n",
              "      <td>261134.406250</td>\n",
              "    </tr>\n",
              "    <tr>\n",
              "      <th>70</th>\n",
              "      <td>77874.328125</td>\n",
              "    </tr>\n",
              "    <tr>\n",
              "      <th>71</th>\n",
              "      <td>86843.593750</td>\n",
              "    </tr>\n",
              "    <tr>\n",
              "      <th>72</th>\n",
              "      <td>75700.500000</td>\n",
              "    </tr>\n",
              "    <tr>\n",
              "      <th>73</th>\n",
              "      <td>276921.062500</td>\n",
              "    </tr>\n",
              "    <tr>\n",
              "      <th>74</th>\n",
              "      <td>194425.375000</td>\n",
              "    </tr>\n",
              "    <tr>\n",
              "      <th>75</th>\n",
              "      <td>224191.750000</td>\n",
              "    </tr>\n",
              "    <tr>\n",
              "      <th>76</th>\n",
              "      <td>139681.031250</td>\n",
              "    </tr>\n",
              "    <tr>\n",
              "      <th>77</th>\n",
              "      <td>82757.031250</td>\n",
              "    </tr>\n",
              "    <tr>\n",
              "      <th>78</th>\n",
              "      <td>110145.132812</td>\n",
              "    </tr>\n",
              "    <tr>\n",
              "      <th>79</th>\n",
              "      <td>101269.757812</td>\n",
              "    </tr>\n",
              "    <tr>\n",
              "      <th>80</th>\n",
              "      <td>145405.171875</td>\n",
              "    </tr>\n",
              "    <tr>\n",
              "      <th>81</th>\n",
              "      <td>143910.281250</td>\n",
              "    </tr>\n",
              "    <tr>\n",
              "      <th>82</th>\n",
              "      <td>80039.445312</td>\n",
              "    </tr>\n",
              "    <tr>\n",
              "      <th>83</th>\n",
              "      <td>236022.750000</td>\n",
              "    </tr>\n",
              "    <tr>\n",
              "      <th>84</th>\n",
              "      <td>112683.812500</td>\n",
              "    </tr>\n",
              "    <tr>\n",
              "      <th>85</th>\n",
              "      <td>107199.890625</td>\n",
              "    </tr>\n",
              "    <tr>\n",
              "      <th>86</th>\n",
              "      <td>156517.109375</td>\n",
              "    </tr>\n",
              "    <tr>\n",
              "      <th>87</th>\n",
              "      <td>141295.125000</td>\n",
              "    </tr>\n",
              "    <tr>\n",
              "      <th>88</th>\n",
              "      <td>147190.937500</td>\n",
              "    </tr>\n",
              "    <tr>\n",
              "      <th>89</th>\n",
              "      <td>100386.296875</td>\n",
              "    </tr>\n",
              "    <tr>\n",
              "      <th>90</th>\n",
              "      <td>294269.406250</td>\n",
              "    </tr>\n",
              "    <tr>\n",
              "      <th>91</th>\n",
              "      <td>140059.062500</td>\n",
              "    </tr>\n",
              "    <tr>\n",
              "      <th>92</th>\n",
              "      <td>170368.250000</td>\n",
              "    </tr>\n",
              "    <tr>\n",
              "      <th>93</th>\n",
              "      <td>136182.609375</td>\n",
              "    </tr>\n",
              "    <tr>\n",
              "      <th>94</th>\n",
              "      <td>121516.898438</td>\n",
              "    </tr>\n",
              "    <tr>\n",
              "      <th>95</th>\n",
              "      <td>459786.031250</td>\n",
              "    </tr>\n",
              "    <tr>\n",
              "      <th>96</th>\n",
              "      <td>205422.781250</td>\n",
              "    </tr>\n",
              "    <tr>\n",
              "      <th>97</th>\n",
              "      <td>343772.468750</td>\n",
              "    </tr>\n",
              "    <tr>\n",
              "      <th>98</th>\n",
              "      <td>230050.062500</td>\n",
              "    </tr>\n",
              "    <tr>\n",
              "      <th>99</th>\n",
              "      <td>273797.781250</td>\n",
              "    </tr>\n",
              "    <tr>\n",
              "      <th>100</th>\n",
              "      <td>172741.500000</td>\n",
              "    </tr>\n",
              "    <tr>\n",
              "      <th>101</th>\n",
              "      <td>146293.234375</td>\n",
              "    </tr>\n",
              "    <tr>\n",
              "      <th>102</th>\n",
              "      <td>218832.750000</td>\n",
              "    </tr>\n",
              "    <tr>\n",
              "      <th>103</th>\n",
              "      <td>104653.148438</td>\n",
              "    </tr>\n",
              "    <tr>\n",
              "      <th>104</th>\n",
              "      <td>249901.406250</td>\n",
              "    </tr>\n",
              "    <tr>\n",
              "      <th>105</th>\n",
              "      <td>143485.531250</td>\n",
              "    </tr>\n",
              "    <tr>\n",
              "      <th>106</th>\n",
              "      <td>152159.859375</td>\n",
              "    </tr>\n",
              "    <tr>\n",
              "      <th>107</th>\n",
              "      <td>264977.687500</td>\n",
              "    </tr>\n",
              "    <tr>\n",
              "      <th>108</th>\n",
              "      <td>285997.781250</td>\n",
              "    </tr>\n",
              "    <tr>\n",
              "      <th>109</th>\n",
              "      <td>246516.562500</td>\n",
              "    </tr>\n",
              "    <tr>\n",
              "      <th>110</th>\n",
              "      <td>88001.375000</td>\n",
              "    </tr>\n",
              "    <tr>\n",
              "      <th>111</th>\n",
              "      <td>131404.812500</td>\n",
              "    </tr>\n",
              "    <tr>\n",
              "      <th>112</th>\n",
              "      <td>54305.945312</td>\n",
              "    </tr>\n",
              "    <tr>\n",
              "      <th>113</th>\n",
              "      <td>183821.093750</td>\n",
              "    </tr>\n",
              "    <tr>\n",
              "      <th>114</th>\n",
              "      <td>100635.687500</td>\n",
              "    </tr>\n",
              "    <tr>\n",
              "      <th>115</th>\n",
              "      <td>167953.671875</td>\n",
              "    </tr>\n",
              "    <tr>\n",
              "      <th>116</th>\n",
              "      <td>125219.203125</td>\n",
              "    </tr>\n",
              "    <tr>\n",
              "      <th>117</th>\n",
              "      <td>115540.414062</td>\n",
              "    </tr>\n",
              "    <tr>\n",
              "      <th>118</th>\n",
              "      <td>374273.250000</td>\n",
              "    </tr>\n",
              "    <tr>\n",
              "      <th>119</th>\n",
              "      <td>303660.093750</td>\n",
              "    </tr>\n",
              "    <tr>\n",
              "      <th>120</th>\n",
              "      <td>241793.171875</td>\n",
              "    </tr>\n",
              "    <tr>\n",
              "      <th>121</th>\n",
              "      <td>109705.718750</td>\n",
              "    </tr>\n",
              "    <tr>\n",
              "      <th>122</th>\n",
              "      <td>175133.281250</td>\n",
              "    </tr>\n",
              "    <tr>\n",
              "      <th>123</th>\n",
              "      <td>129003.265625</td>\n",
              "    </tr>\n",
              "    <tr>\n",
              "      <th>124</th>\n",
              "      <td>107908.984375</td>\n",
              "    </tr>\n",
              "    <tr>\n",
              "      <th>125</th>\n",
              "      <td>133477.156250</td>\n",
              "    </tr>\n",
              "    <tr>\n",
              "      <th>126</th>\n",
              "      <td>212068.281250</td>\n",
              "    </tr>\n",
              "    <tr>\n",
              "      <th>127</th>\n",
              "      <td>316897.937500</td>\n",
              "    </tr>\n",
              "    <tr>\n",
              "      <th>128</th>\n",
              "      <td>107957.062500</td>\n",
              "    </tr>\n",
              "    <tr>\n",
              "      <th>129</th>\n",
              "      <td>157251.062500</td>\n",
              "    </tr>\n",
              "    <tr>\n",
              "      <th>130</th>\n",
              "      <td>116217.484375</td>\n",
              "    </tr>\n",
              "    <tr>\n",
              "      <th>131</th>\n",
              "      <td>115121.234375</td>\n",
              "    </tr>\n",
              "    <tr>\n",
              "      <th>132</th>\n",
              "      <td>195023.125000</td>\n",
              "    </tr>\n",
              "    <tr>\n",
              "      <th>133</th>\n",
              "      <td>181444.578125</td>\n",
              "    </tr>\n",
              "    <tr>\n",
              "      <th>134</th>\n",
              "      <td>233953.875000</td>\n",
              "    </tr>\n",
              "    <tr>\n",
              "      <th>135</th>\n",
              "      <td>97694.468750</td>\n",
              "    </tr>\n",
              "    <tr>\n",
              "      <th>136</th>\n",
              "      <td>255746.046875</td>\n",
              "    </tr>\n",
              "    <tr>\n",
              "      <th>137</th>\n",
              "      <td>120710.312500</td>\n",
              "    </tr>\n",
              "    <tr>\n",
              "      <th>138</th>\n",
              "      <td>154095.812500</td>\n",
              "    </tr>\n",
              "    <tr>\n",
              "      <th>139</th>\n",
              "      <td>230795.625000</td>\n",
              "    </tr>\n",
              "    <tr>\n",
              "      <th>140</th>\n",
              "      <td>226086.218750</td>\n",
              "    </tr>\n",
              "    <tr>\n",
              "      <th>141</th>\n",
              "      <td>154816.031250</td>\n",
              "    </tr>\n",
              "    <tr>\n",
              "      <th>142</th>\n",
              "      <td>72349.601562</td>\n",
              "    </tr>\n",
              "    <tr>\n",
              "      <th>143</th>\n",
              "      <td>318192.625000</td>\n",
              "    </tr>\n",
              "    <tr>\n",
              "      <th>144</th>\n",
              "      <td>146812.000000</td>\n",
              "    </tr>\n",
              "    <tr>\n",
              "      <th>145</th>\n",
              "      <td>231642.187500</td>\n",
              "    </tr>\n",
              "    <tr>\n",
              "      <th>146</th>\n",
              "      <td>149367.625000</td>\n",
              "    </tr>\n",
              "    <tr>\n",
              "      <th>147</th>\n",
              "      <td>135979.468750</td>\n",
              "    </tr>\n",
              "    <tr>\n",
              "      <th>148</th>\n",
              "      <td>140416.890625</td>\n",
              "    </tr>\n",
              "    <tr>\n",
              "      <th>149</th>\n",
              "      <td>121128.187500</td>\n",
              "    </tr>\n",
              "    <tr>\n",
              "      <th>150</th>\n",
              "      <td>136571.046875</td>\n",
              "    </tr>\n",
              "    <tr>\n",
              "      <th>151</th>\n",
              "      <td>125537.101562</td>\n",
              "    </tr>\n",
              "    <tr>\n",
              "      <th>152</th>\n",
              "      <td>209996.515625</td>\n",
              "    </tr>\n",
              "    <tr>\n",
              "      <th>153</th>\n",
              "      <td>124089.054688</td>\n",
              "    </tr>\n",
              "    <tr>\n",
              "      <th>154</th>\n",
              "      <td>84758.750000</td>\n",
              "    </tr>\n",
              "    <tr>\n",
              "      <th>155</th>\n",
              "      <td>194113.421875</td>\n",
              "    </tr>\n",
              "    <tr>\n",
              "      <th>156</th>\n",
              "      <td>99578.257812</td>\n",
              "    </tr>\n",
              "    <tr>\n",
              "      <th>157</th>\n",
              "      <td>186032.812500</td>\n",
              "    </tr>\n",
              "    <tr>\n",
              "      <th>158</th>\n",
              "      <td>155539.578125</td>\n",
              "    </tr>\n",
              "    <tr>\n",
              "      <th>159</th>\n",
              "      <td>172367.140625</td>\n",
              "    </tr>\n",
              "    <tr>\n",
              "      <th>160</th>\n",
              "      <td>130848.562500</td>\n",
              "    </tr>\n",
              "    <tr>\n",
              "      <th>161</th>\n",
              "      <td>331526.718750</td>\n",
              "    </tr>\n",
              "    <tr>\n",
              "      <th>162</th>\n",
              "      <td>127530.031250</td>\n",
              "    </tr>\n",
              "    <tr>\n",
              "      <th>163</th>\n",
              "      <td>176954.906250</td>\n",
              "    </tr>\n",
              "    <tr>\n",
              "      <th>164</th>\n",
              "      <td>210544.203125</td>\n",
              "    </tr>\n",
              "    <tr>\n",
              "      <th>165</th>\n",
              "      <td>353334.718750</td>\n",
              "    </tr>\n",
              "    <tr>\n",
              "      <th>166</th>\n",
              "      <td>198227.093750</td>\n",
              "    </tr>\n",
              "    <tr>\n",
              "      <th>167</th>\n",
              "      <td>91010.437500</td>\n",
              "    </tr>\n",
              "    <tr>\n",
              "      <th>168</th>\n",
              "      <td>284152.250000</td>\n",
              "    </tr>\n",
              "    <tr>\n",
              "      <th>169</th>\n",
              "      <td>99312.875000</td>\n",
              "    </tr>\n",
              "    <tr>\n",
              "      <th>170</th>\n",
              "      <td>93175.828125</td>\n",
              "    </tr>\n",
              "    <tr>\n",
              "      <th>171</th>\n",
              "      <td>107167.734375</td>\n",
              "    </tr>\n",
              "    <tr>\n",
              "      <th>172</th>\n",
              "      <td>287896.156250</td>\n",
              "    </tr>\n",
              "    <tr>\n",
              "      <th>173</th>\n",
              "      <td>91012.289062</td>\n",
              "    </tr>\n",
              "    <tr>\n",
              "      <th>174</th>\n",
              "      <td>168955.171875</td>\n",
              "    </tr>\n",
              "    <tr>\n",
              "      <th>175</th>\n",
              "      <td>174679.015625</td>\n",
              "    </tr>\n",
              "    <tr>\n",
              "      <th>176</th>\n",
              "      <td>178404.453125</td>\n",
              "    </tr>\n",
              "    <tr>\n",
              "      <th>177</th>\n",
              "      <td>270434.468750</td>\n",
              "    </tr>\n",
              "    <tr>\n",
              "      <th>178</th>\n",
              "      <td>215032.781250</td>\n",
              "    </tr>\n",
              "    <tr>\n",
              "      <th>179</th>\n",
              "      <td>115551.914062</td>\n",
              "    </tr>\n",
              "  </tbody>\n",
              "</table>\n",
              "</div>"
            ],
            "text/plain": [
              "        Prediction\n",
              "0    100360.554688\n",
              "1    198613.906250\n",
              "2    125908.046875\n",
              "3    202358.281250\n",
              "4    221493.359375\n",
              "5    202849.312500\n",
              "6    151999.625000\n",
              "7    289870.437500\n",
              "8    160965.890625\n",
              "9    396116.781250\n",
              "10   215281.250000\n",
              "11   203977.500000\n",
              "12   193157.625000\n",
              "13   107015.914062\n",
              "14   188708.000000\n",
              "15   115341.523438\n",
              "16   250569.671875\n",
              "17   116953.906250\n",
              "18   324087.968750\n",
              "19    78356.195312\n",
              "20   183109.578125\n",
              "21    97400.695312\n",
              "22    96901.140625\n",
              "23   165070.843750\n",
              "24   203274.468750\n",
              "25   198863.390625\n",
              "26   132960.093750\n",
              "27   389884.062500\n",
              "28   144948.546875\n",
              "29   152142.859375\n",
              "30    70848.593750\n",
              "31   141800.250000\n",
              "32   270312.218750\n",
              "33    86341.375000\n",
              "34   224023.812500\n",
              "35   193566.640625\n",
              "36   117480.609375\n",
              "37   138757.890625\n",
              "38   163736.062500\n",
              "39    97379.390625\n",
              "40   279502.093750\n",
              "41   314560.593750\n",
              "42    74762.515625\n",
              "43   169625.546875\n",
              "44   198287.312500\n",
              "45   106642.226562\n",
              "46   100786.250000\n",
              "47   140262.234375\n",
              "48   114736.984375\n",
              "49   405122.593750\n",
              "50   130244.460938\n",
              "51   345756.718750\n",
              "52   227059.187500\n",
              "53   158067.437500\n",
              "54   273677.156250\n",
              "55   196532.500000\n",
              "56   135711.937500\n",
              "57   118954.812500\n",
              "58   310363.281250\n",
              "59   179077.968750\n",
              "60   334718.875000\n",
              "61   102753.406250\n",
              "62   220175.546875\n",
              "63   223256.437500\n",
              "64   177462.750000\n",
              "65   134470.937500\n",
              "66   166770.406250\n",
              "67   262345.531250\n",
              "68    58897.042969\n",
              "69   261134.406250\n",
              "70    77874.328125\n",
              "71    86843.593750\n",
              "72    75700.500000\n",
              "73   276921.062500\n",
              "74   194425.375000\n",
              "75   224191.750000\n",
              "76   139681.031250\n",
              "77    82757.031250\n",
              "78   110145.132812\n",
              "79   101269.757812\n",
              "80   145405.171875\n",
              "81   143910.281250\n",
              "82    80039.445312\n",
              "83   236022.750000\n",
              "84   112683.812500\n",
              "85   107199.890625\n",
              "86   156517.109375\n",
              "87   141295.125000\n",
              "88   147190.937500\n",
              "89   100386.296875\n",
              "90   294269.406250\n",
              "91   140059.062500\n",
              "92   170368.250000\n",
              "93   136182.609375\n",
              "94   121516.898438\n",
              "95   459786.031250\n",
              "96   205422.781250\n",
              "97   343772.468750\n",
              "98   230050.062500\n",
              "99   273797.781250\n",
              "100  172741.500000\n",
              "101  146293.234375\n",
              "102  218832.750000\n",
              "103  104653.148438\n",
              "104  249901.406250\n",
              "105  143485.531250\n",
              "106  152159.859375\n",
              "107  264977.687500\n",
              "108  285997.781250\n",
              "109  246516.562500\n",
              "110   88001.375000\n",
              "111  131404.812500\n",
              "112   54305.945312\n",
              "113  183821.093750\n",
              "114  100635.687500\n",
              "115  167953.671875\n",
              "116  125219.203125\n",
              "117  115540.414062\n",
              "118  374273.250000\n",
              "119  303660.093750\n",
              "120  241793.171875\n",
              "121  109705.718750\n",
              "122  175133.281250\n",
              "123  129003.265625\n",
              "124  107908.984375\n",
              "125  133477.156250\n",
              "126  212068.281250\n",
              "127  316897.937500\n",
              "128  107957.062500\n",
              "129  157251.062500\n",
              "130  116217.484375\n",
              "131  115121.234375\n",
              "132  195023.125000\n",
              "133  181444.578125\n",
              "134  233953.875000\n",
              "135   97694.468750\n",
              "136  255746.046875\n",
              "137  120710.312500\n",
              "138  154095.812500\n",
              "139  230795.625000\n",
              "140  226086.218750\n",
              "141  154816.031250\n",
              "142   72349.601562\n",
              "143  318192.625000\n",
              "144  146812.000000\n",
              "145  231642.187500\n",
              "146  149367.625000\n",
              "147  135979.468750\n",
              "148  140416.890625\n",
              "149  121128.187500\n",
              "150  136571.046875\n",
              "151  125537.101562\n",
              "152  209996.515625\n",
              "153  124089.054688\n",
              "154   84758.750000\n",
              "155  194113.421875\n",
              "156   99578.257812\n",
              "157  186032.812500\n",
              "158  155539.578125\n",
              "159  172367.140625\n",
              "160  130848.562500\n",
              "161  331526.718750\n",
              "162  127530.031250\n",
              "163  176954.906250\n",
              "164  210544.203125\n",
              "165  353334.718750\n",
              "166  198227.093750\n",
              "167   91010.437500\n",
              "168  284152.250000\n",
              "169   99312.875000\n",
              "170   93175.828125\n",
              "171  107167.734375\n",
              "172  287896.156250\n",
              "173   91012.289062\n",
              "174  168955.171875\n",
              "175  174679.015625\n",
              "176  178404.453125\n",
              "177  270434.468750\n",
              "178  215032.781250\n",
              "179  115551.914062"
            ]
          },
          "metadata": {},
          "execution_count": 64
        }
      ]
    },
    {
      "cell_type": "code",
      "metadata": {
        "colab": {
          "base_uri": "https://localhost:8080/",
          "height": 204
        },
        "id": "yXrkjCU-l0nf",
        "outputId": "1db6741d-f75f-40e1-82a2-6f1e117c4dce"
      },
      "source": [
        "final_output = pd.concat([data_verify,data_predicted],axis=1)\n",
        "final_output['Difference']=final_output['Test']-final_output['Prediction']\n",
        "final_output.head()"
      ],
      "execution_count": 65,
      "outputs": [
        {
          "output_type": "execute_result",
          "data": {
            "text/html": [
              "<div>\n",
              "<style scoped>\n",
              "    .dataframe tbody tr th:only-of-type {\n",
              "        vertical-align: middle;\n",
              "    }\n",
              "\n",
              "    .dataframe tbody tr th {\n",
              "        vertical-align: top;\n",
              "    }\n",
              "\n",
              "    .dataframe thead th {\n",
              "        text-align: right;\n",
              "    }\n",
              "</style>\n",
              "<table border=\"1\" class=\"dataframe\">\n",
              "  <thead>\n",
              "    <tr style=\"text-align: right;\">\n",
              "      <th></th>\n",
              "      <th>Test</th>\n",
              "      <th>Prediction</th>\n",
              "      <th>Difference</th>\n",
              "    </tr>\n",
              "  </thead>\n",
              "  <tbody>\n",
              "    <tr>\n",
              "      <th>0</th>\n",
              "      <td>130000.0</td>\n",
              "      <td>100360.554688</td>\n",
              "      <td>29639.445312</td>\n",
              "    </tr>\n",
              "    <tr>\n",
              "      <th>1</th>\n",
              "      <td>138887.0</td>\n",
              "      <td>198613.906250</td>\n",
              "      <td>-59726.906250</td>\n",
              "    </tr>\n",
              "    <tr>\n",
              "      <th>2</th>\n",
              "      <td>175500.0</td>\n",
              "      <td>125908.046875</td>\n",
              "      <td>49591.953125</td>\n",
              "    </tr>\n",
              "    <tr>\n",
              "      <th>3</th>\n",
              "      <td>195000.0</td>\n",
              "      <td>202358.281250</td>\n",
              "      <td>-7358.281250</td>\n",
              "    </tr>\n",
              "    <tr>\n",
              "      <th>4</th>\n",
              "      <td>142500.0</td>\n",
              "      <td>221493.359375</td>\n",
              "      <td>-78993.359375</td>\n",
              "    </tr>\n",
              "  </tbody>\n",
              "</table>\n",
              "</div>"
            ],
            "text/plain": [
              "       Test     Prediction    Difference\n",
              "0  130000.0  100360.554688  29639.445312\n",
              "1  138887.0  198613.906250 -59726.906250\n",
              "2  175500.0  125908.046875  49591.953125\n",
              "3  195000.0  202358.281250  -7358.281250\n",
              "4  142500.0  221493.359375 -78993.359375"
            ]
          },
          "metadata": {},
          "execution_count": 65
        }
      ]
    },
    {
      "cell_type": "code",
      "metadata": {
        "id": "Fa-HaCykl0s-"
      },
      "source": [
        "torch.save(model,'HouseWeights.pt')"
      ],
      "execution_count": 66,
      "outputs": []
    },
    {
      "cell_type": "code",
      "metadata": {
        "id": "2VBAAQyHl0xU"
      },
      "source": [
        "###Loading the saved model\n",
        "embs_size = [(15,8),(5,3),(2,1),(4,2)]\n",
        "model1 = FeedForwardNN(embs_size,5,1,[100,50],p=0.4)"
      ],
      "execution_count": 67,
      "outputs": []
    },
    {
      "cell_type": "code",
      "metadata": {
        "id": "ck7K64W0oUf4"
      },
      "source": [
        "torch.save(model.state_dict(),'HouseWeights.pt')"
      ],
      "execution_count": 70,
      "outputs": []
    },
    {
      "cell_type": "code",
      "metadata": {
        "colab": {
          "base_uri": "https://localhost:8080/"
        },
        "id": "jCnitibMn0NM",
        "outputId": "35490817-a0ec-42fe-de1f-46934dd9c314"
      },
      "source": [
        "model1.load_state_dict(torch.load('HouseWeights.pt'))"
      ],
      "execution_count": 71,
      "outputs": [
        {
          "output_type": "execute_result",
          "data": {
            "text/plain": [
              "<All keys matched successfully>"
            ]
          },
          "metadata": {},
          "execution_count": 71
        }
      ]
    },
    {
      "cell_type": "code",
      "metadata": {
        "colab": {
          "base_uri": "https://localhost:8080/"
        },
        "id": "57ByR8ROof1q",
        "outputId": "62239b37-8ec1-4ff7-d3c9-00156b858741"
      },
      "source": [
        "model1.eval()"
      ],
      "execution_count": 72,
      "outputs": [
        {
          "output_type": "execute_result",
          "data": {
            "text/plain": [
              "FeedForwardNN(\n",
              "  (embeds): ModuleList(\n",
              "    (0): Embedding(15, 8)\n",
              "    (1): Embedding(5, 3)\n",
              "    (2): Embedding(2, 1)\n",
              "    (3): Embedding(4, 2)\n",
              "  )\n",
              "  (emb_drop): Dropout(p=0.4, inplace=False)\n",
              "  (bn_cont): BatchNorm1d(5, eps=1e-05, momentum=0.1, affine=True, track_running_stats=True)\n",
              "  (layers): Sequential(\n",
              "    (0): Linear(in_features=19, out_features=100, bias=True)\n",
              "    (1): ReLU(inplace=True)\n",
              "    (2): BatchNorm1d(100, eps=1e-05, momentum=0.1, affine=True, track_running_stats=True)\n",
              "    (3): Dropout(p=0.4, inplace=False)\n",
              "    (4): Linear(in_features=100, out_features=50, bias=True)\n",
              "    (5): ReLU(inplace=True)\n",
              "    (6): BatchNorm1d(50, eps=1e-05, momentum=0.1, affine=True, track_running_stats=True)\n",
              "    (7): Dropout(p=0.4, inplace=False)\n",
              "    (8): Linear(in_features=50, out_features=1, bias=True)\n",
              "  )\n",
              ")"
            ]
          },
          "metadata": {},
          "execution_count": 72
        }
      ]
    }
  ]
}